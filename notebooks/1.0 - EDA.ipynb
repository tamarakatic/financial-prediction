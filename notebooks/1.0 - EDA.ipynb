{
 "cells": [
  {
   "cell_type": "code",
   "execution_count": 67,
   "metadata": {},
   "outputs": [],
   "source": [
    "import pandas as pd\n",
    "import matplotlib.pyplot as plt\n",
    "import seaborn as sns\n",
    "import numpy as np\n",
    "\n",
    "\n",
    "%matplotlib inline"
   ]
  },
  {
   "cell_type": "code",
   "execution_count": 68,
   "metadata": {},
   "outputs": [],
   "source": [
    "pd.set_option('display.max_rows', 500)\n",
    "pd.set_option('display.max_columns', 500)\n",
    "pd.set_option('display.width', 1000)"
   ]
  },
  {
   "cell_type": "code",
   "execution_count": 69,
   "metadata": {},
   "outputs": [],
   "source": [
    "df = pd.read_csv(\"../data/data_csv.csv\")"
   ]
  },
  {
   "cell_type": "code",
   "execution_count": 71,
   "metadata": {},
   "outputs": [
    {
     "data": {
      "text/html": [
       "<div>\n",
       "<style scoped>\n",
       "    .dataframe tbody tr th:only-of-type {\n",
       "        vertical-align: middle;\n",
       "    }\n",
       "\n",
       "    .dataframe tbody tr th {\n",
       "        vertical-align: top;\n",
       "    }\n",
       "\n",
       "    .dataframe thead th {\n",
       "        text-align: right;\n",
       "    }\n",
       "</style>\n",
       "<table border=\"1\" class=\"dataframe\">\n",
       "  <thead>\n",
       "    <tr style=\"text-align: right;\">\n",
       "      <th></th>\n",
       "      <th>Date</th>\n",
       "      <th>SP500</th>\n",
       "      <th>Dividend</th>\n",
       "      <th>Earnings</th>\n",
       "      <th>Consumer Price Index</th>\n",
       "      <th>Long Interest Rate</th>\n",
       "      <th>Real Price</th>\n",
       "      <th>Real Dividend</th>\n",
       "      <th>Real Earnings</th>\n",
       "      <th>PE10</th>\n",
       "    </tr>\n",
       "  </thead>\n",
       "  <tbody>\n",
       "    <tr>\n",
       "      <th>0</th>\n",
       "      <td>1881-01-01</td>\n",
       "      <td>6.19</td>\n",
       "      <td>0.27</td>\n",
       "      <td>0.49</td>\n",
       "      <td>9.42</td>\n",
       "      <td>3.70</td>\n",
       "      <td>164.18</td>\n",
       "      <td>7.03</td>\n",
       "      <td>12.89</td>\n",
       "      <td>18.47</td>\n",
       "    </tr>\n",
       "    <tr>\n",
       "      <th>1</th>\n",
       "      <td>1881-02-01</td>\n",
       "      <td>6.17</td>\n",
       "      <td>0.27</td>\n",
       "      <td>0.48</td>\n",
       "      <td>9.51</td>\n",
       "      <td>3.69</td>\n",
       "      <td>162.01</td>\n",
       "      <td>7.09</td>\n",
       "      <td>12.65</td>\n",
       "      <td>18.15</td>\n",
       "    </tr>\n",
       "    <tr>\n",
       "      <th>2</th>\n",
       "      <td>1881-03-01</td>\n",
       "      <td>6.24</td>\n",
       "      <td>0.28</td>\n",
       "      <td>0.48</td>\n",
       "      <td>9.51</td>\n",
       "      <td>3.69</td>\n",
       "      <td>163.85</td>\n",
       "      <td>7.22</td>\n",
       "      <td>12.54</td>\n",
       "      <td>18.27</td>\n",
       "    </tr>\n",
       "    <tr>\n",
       "      <th>3</th>\n",
       "      <td>1881-04-01</td>\n",
       "      <td>6.22</td>\n",
       "      <td>0.28</td>\n",
       "      <td>0.47</td>\n",
       "      <td>9.61</td>\n",
       "      <td>3.68</td>\n",
       "      <td>161.71</td>\n",
       "      <td>7.28</td>\n",
       "      <td>12.31</td>\n",
       "      <td>17.95</td>\n",
       "    </tr>\n",
       "    <tr>\n",
       "      <th>4</th>\n",
       "      <td>1881-05-01</td>\n",
       "      <td>6.50</td>\n",
       "      <td>0.28</td>\n",
       "      <td>0.47</td>\n",
       "      <td>9.51</td>\n",
       "      <td>3.67</td>\n",
       "      <td>170.68</td>\n",
       "      <td>7.48</td>\n",
       "      <td>12.32</td>\n",
       "      <td>18.87</td>\n",
       "    </tr>\n",
       "  </tbody>\n",
       "</table>\n",
       "</div>"
      ],
      "text/plain": [
       "         Date  SP500  Dividend  Earnings  Consumer Price Index  Long Interest Rate  Real Price  Real Dividend  Real Earnings   PE10\n",
       "0  1881-01-01  6.19   0.27      0.49      9.42                  3.70                164.18      7.03           12.89          18.47\n",
       "1  1881-02-01  6.17   0.27      0.48      9.51                  3.69                162.01      7.09           12.65          18.15\n",
       "2  1881-03-01  6.24   0.28      0.48      9.51                  3.69                163.85      7.22           12.54          18.27\n",
       "3  1881-04-01  6.22   0.28      0.47      9.61                  3.68                161.71      7.28           12.31          17.95\n",
       "4  1881-05-01  6.50   0.28      0.47      9.51                  3.67                170.68      7.48           12.32          18.87"
      ]
     },
     "execution_count": 71,
     "metadata": {},
     "output_type": "execute_result"
    }
   ],
   "source": [
    "df.head()"
   ]
  },
  {
   "cell_type": "code",
   "execution_count": 70,
   "metadata": {},
   "outputs": [
    {
     "data": {
      "text/plain": [
       "(1644, 10)"
      ]
     },
     "execution_count": 70,
     "metadata": {},
     "output_type": "execute_result"
    }
   ],
   "source": [
    "df.shape"
   ]
  },
  {
   "cell_type": "code",
   "execution_count": 74,
   "metadata": {},
   "outputs": [
    {
     "data": {
      "text/html": [
       "<div>\n",
       "<style scoped>\n",
       "    .dataframe tbody tr th:only-of-type {\n",
       "        vertical-align: middle;\n",
       "    }\n",
       "\n",
       "    .dataframe tbody tr th {\n",
       "        vertical-align: top;\n",
       "    }\n",
       "\n",
       "    .dataframe thead th {\n",
       "        text-align: right;\n",
       "    }\n",
       "</style>\n",
       "<table border=\"1\" class=\"dataframe\">\n",
       "  <thead>\n",
       "    <tr style=\"text-align: right;\">\n",
       "      <th></th>\n",
       "      <th>SP500</th>\n",
       "      <th>Dividend</th>\n",
       "      <th>Earnings</th>\n",
       "      <th>Consumer Price Index</th>\n",
       "      <th>Long Interest Rate</th>\n",
       "      <th>Real Price</th>\n",
       "      <th>Real Dividend</th>\n",
       "      <th>Real Earnings</th>\n",
       "      <th>PE10</th>\n",
       "      <th>Year</th>\n",
       "    </tr>\n",
       "  </thead>\n",
       "  <tbody>\n",
       "    <tr>\n",
       "      <th>count</th>\n",
       "      <td>1644.000000</td>\n",
       "      <td>1644.000000</td>\n",
       "      <td>1644.000000</td>\n",
       "      <td>1644.000000</td>\n",
       "      <td>1644.000000</td>\n",
       "      <td>1644.000000</td>\n",
       "      <td>1644.000000</td>\n",
       "      <td>1644.000000</td>\n",
       "      <td>1644.000000</td>\n",
       "      <td>1644.000000</td>\n",
       "    </tr>\n",
       "    <tr>\n",
       "      <th>mean</th>\n",
       "      <td>270.951886</td>\n",
       "      <td>5.948266</td>\n",
       "      <td>13.717032</td>\n",
       "      <td>60.682530</td>\n",
       "      <td>4.559465</td>\n",
       "      <td>532.709568</td>\n",
       "      <td>15.758029</td>\n",
       "      <td>31.386776</td>\n",
       "      <td>16.814221</td>\n",
       "      <td>1949.000000</td>\n",
       "    </tr>\n",
       "    <tr>\n",
       "      <th>std</th>\n",
       "      <td>514.527711</td>\n",
       "      <td>9.711107</td>\n",
       "      <td>24.463934</td>\n",
       "      <td>71.654323</td>\n",
       "      <td>2.367001</td>\n",
       "      <td>542.212359</td>\n",
       "      <td>8.282715</td>\n",
       "      <td>24.035416</td>\n",
       "      <td>6.701090</td>\n",
       "      <td>39.559473</td>\n",
       "    </tr>\n",
       "    <tr>\n",
       "      <th>min</th>\n",
       "      <td>3.810000</td>\n",
       "      <td>0.180000</td>\n",
       "      <td>0.160000</td>\n",
       "      <td>6.280000</td>\n",
       "      <td>1.500000</td>\n",
       "      <td>87.630000</td>\n",
       "      <td>6.220000</td>\n",
       "      <td>4.190000</td>\n",
       "      <td>4.780000</td>\n",
       "      <td>1881.000000</td>\n",
       "    </tr>\n",
       "    <tr>\n",
       "      <th>25%</th>\n",
       "      <td>8.530000</td>\n",
       "      <td>0.460000</td>\n",
       "      <td>0.657500</td>\n",
       "      <td>10.280000</td>\n",
       "      <td>3.180000</td>\n",
       "      <td>179.557500</td>\n",
       "      <td>9.080000</td>\n",
       "      <td>14.167500</td>\n",
       "      <td>11.787500</td>\n",
       "      <td>1915.000000</td>\n",
       "    </tr>\n",
       "    <tr>\n",
       "      <th>50%</th>\n",
       "      <td>21.460000</td>\n",
       "      <td>1.025000</td>\n",
       "      <td>2.350000</td>\n",
       "      <td>23.850000</td>\n",
       "      <td>3.740000</td>\n",
       "      <td>274.115000</td>\n",
       "      <td>13.570000</td>\n",
       "      <td>23.365000</td>\n",
       "      <td>16.160000</td>\n",
       "      <td>1949.000000</td>\n",
       "    </tr>\n",
       "    <tr>\n",
       "      <th>75%</th>\n",
       "      <td>157.625000</td>\n",
       "      <td>7.007500</td>\n",
       "      <td>14.712500</td>\n",
       "      <td>100.775000</td>\n",
       "      <td>5.092500</td>\n",
       "      <td>643.490000</td>\n",
       "      <td>20.360000</td>\n",
       "      <td>40.032500</td>\n",
       "      <td>20.432500</td>\n",
       "      <td>1983.000000</td>\n",
       "    </tr>\n",
       "    <tr>\n",
       "      <th>max</th>\n",
       "      <td>2664.340000</td>\n",
       "      <td>48.930000</td>\n",
       "      <td>109.880000</td>\n",
       "      <td>246.820000</td>\n",
       "      <td>15.320000</td>\n",
       "      <td>2700.130000</td>\n",
       "      <td>49.590000</td>\n",
       "      <td>111.360000</td>\n",
       "      <td>44.200000</td>\n",
       "      <td>2017.000000</td>\n",
       "    </tr>\n",
       "  </tbody>\n",
       "</table>\n",
       "</div>"
      ],
      "text/plain": [
       "             SP500     Dividend     Earnings  Consumer Price Index  Long Interest Rate   Real Price  Real Dividend  Real Earnings         PE10         Year\n",
       "count  1644.000000  1644.000000  1644.000000  1644.000000           1644.000000         1644.000000  1644.000000    1644.000000    1644.000000  1644.000000\n",
       "mean   270.951886   5.948266     13.717032    60.682530             4.559465            532.709568   15.758029      31.386776      16.814221    1949.000000\n",
       "std    514.527711   9.711107     24.463934    71.654323             2.367001            542.212359   8.282715       24.035416      6.701090     39.559473  \n",
       "min    3.810000     0.180000     0.160000     6.280000              1.500000            87.630000    6.220000       4.190000       4.780000     1881.000000\n",
       "25%    8.530000     0.460000     0.657500     10.280000             3.180000            179.557500   9.080000       14.167500      11.787500    1915.000000\n",
       "50%    21.460000    1.025000     2.350000     23.850000             3.740000            274.115000   13.570000      23.365000      16.160000    1949.000000\n",
       "75%    157.625000   7.007500     14.712500    100.775000            5.092500            643.490000   20.360000      40.032500      20.432500    1983.000000\n",
       "max    2664.340000  48.930000    109.880000   246.820000            15.320000           2700.130000  49.590000      111.360000     44.200000    2017.000000"
      ]
     },
     "execution_count": 74,
     "metadata": {},
     "output_type": "execute_result"
    }
   ],
   "source": [
    "df.describe()"
   ]
  },
  {
   "cell_type": "code",
   "execution_count": 75,
   "metadata": {},
   "outputs": [],
   "source": [
    "dictionary = pd.read_csv(\"../data/dictionary.csv\")"
   ]
  },
  {
   "cell_type": "code",
   "execution_count": 76,
   "metadata": {},
   "outputs": [
    {
     "data": {
      "text/html": [
       "<div>\n",
       "<style scoped>\n",
       "    .dataframe tbody tr th:only-of-type {\n",
       "        vertical-align: middle;\n",
       "    }\n",
       "\n",
       "    .dataframe tbody tr th {\n",
       "        vertical-align: top;\n",
       "    }\n",
       "\n",
       "    .dataframe thead th {\n",
       "        text-align: right;\n",
       "    }\n",
       "</style>\n",
       "<table border=\"1\" class=\"dataframe\">\n",
       "  <thead>\n",
       "    <tr style=\"text-align: right;\">\n",
       "      <th></th>\n",
       "      <th>Key</th>\n",
       "      <th>Description</th>\n",
       "    </tr>\n",
       "  </thead>\n",
       "  <tbody>\n",
       "    <tr>\n",
       "      <th>0</th>\n",
       "      <td>Date</td>\n",
       "      <td>Numeric representation of the data</td>\n",
       "    </tr>\n",
       "    <tr>\n",
       "      <th>1</th>\n",
       "      <td>SP500</td>\n",
       "      <td>Stock market index that measures the stock performance of 500 large companies</td>\n",
       "    </tr>\n",
       "    <tr>\n",
       "      <th>2</th>\n",
       "      <td>Dividend</td>\n",
       "      <td>Dividends paid</td>\n",
       "    </tr>\n",
       "    <tr>\n",
       "      <th>3</th>\n",
       "      <td>Earnings</td>\n",
       "      <td>Earnings per share</td>\n",
       "    </tr>\n",
       "    <tr>\n",
       "      <th>4</th>\n",
       "      <td>Consumer Price Index</td>\n",
       "      <td>Value of Consumer Price Index</td>\n",
       "    </tr>\n",
       "    <tr>\n",
       "      <th>5</th>\n",
       "      <td>Long Interest Rate</td>\n",
       "      <td>Interest rates for the 10-year</td>\n",
       "    </tr>\n",
       "    <tr>\n",
       "      <th>6</th>\n",
       "      <td>Real Price</td>\n",
       "      <td>Adjusted price</td>\n",
       "    </tr>\n",
       "    <tr>\n",
       "      <th>7</th>\n",
       "      <td>Real Dividend</td>\n",
       "      <td>Adjusted dividend</td>\n",
       "    </tr>\n",
       "    <tr>\n",
       "      <th>8</th>\n",
       "      <td>Real Earnings</td>\n",
       "      <td>Adjusted earnings</td>\n",
       "    </tr>\n",
       "    <tr>\n",
       "      <th>9</th>\n",
       "      <td>PE10</td>\n",
       "      <td>Cyclically adjusted price-to-earnings ratio (CAPE)</td>\n",
       "    </tr>\n",
       "  </tbody>\n",
       "</table>\n",
       "</div>"
      ],
      "text/plain": [
       "                    Key                                                                     Description\n",
       "0  Date                  Numeric representation of the data                                            \n",
       "1  SP500                 Stock market index that measures the stock performance of 500 large companies \n",
       "2  Dividend              Dividends paid                                                                \n",
       "3  Earnings              Earnings per share                                                            \n",
       "4  Consumer Price Index  Value of Consumer Price Index                                                 \n",
       "5  Long Interest Rate    Interest rates for the 10-year                                                \n",
       "6  Real Price            Adjusted price                                                                \n",
       "7  Real Dividend         Adjusted dividend                                                             \n",
       "8  Real Earnings         Adjusted earnings                                                             \n",
       "9  PE10                   Cyclically adjusted price-to-earnings ratio (CAPE)                           "
      ]
     },
     "execution_count": 76,
     "metadata": {},
     "output_type": "execute_result"
    }
   ],
   "source": [
    "dictionary"
   ]
  },
  {
   "cell_type": "code",
   "execution_count": null,
   "metadata": {},
   "outputs": [],
   "source": [
    "# Convert data to only year to be easy to plot\n",
    "df[\"Year\"] = pd.DatetimeIndex(df['Date']).year "
   ]
  },
  {
   "cell_type": "code",
   "execution_count": 145,
   "metadata": {},
   "outputs": [
    {
     "data": {
      "text/plain": [
       "Text(0, 0.5, 'Real Price')"
      ]
     },
     "execution_count": 145,
     "metadata": {},
     "output_type": "execute_result"
    },
    {
     "data": {
      "image/png": "[encoded data removed]",
      "text/plain": [
       "<Figure size 432x288 with 1 Axes>"
      ]
     },
     "metadata": {
      "needs_background": "light"
     },
     "output_type": "display_data"
    }
   ],
   "source": [
    "plt.title(\"Real price over time\")\n",
    "plt.plot(df[\"Year\"], df[\"Real Price\"])\n",
    "plt.xlabel(\"Year\")\n",
    "plt.ylabel(\"Real Price\")"
   ]
  },
  {
   "cell_type": "code",
   "execution_count": 147,
   "metadata": {},
   "outputs": [
    {
     "data": {
      "text/plain": [
       "Text(0, 0.5, 'Real Earnings')"
      ]
     },
     "execution_count": 147,
     "metadata": {},
     "output_type": "execute_result"
    },
    {
     "data": {
      "image/png": "[encoded data removed]",
      "text/plain": [
       "<Figure size 432x288 with 1 Axes>"
      ]
     },
     "metadata": {
      "needs_background": "light"
     },
     "output_type": "display_data"
    }
   ],
   "source": [
    "plt.title(\"Share earnings over time\")\n",
    "plt.plot(df[\"Year\"], df[\"Real Earnings\"])\n",
    "plt.xlabel(\"Year\")\n",
    "plt.ylabel(\"Real Earnings\")"
   ]
  },
  {
   "cell_type": "code",
   "execution_count": 146,
   "metadata": {},
   "outputs": [
    {
     "data": {
      "text/plain": [
       "Text(0, 0.5, 'PE10')"
      ]
     },
     "execution_count": 146,
     "metadata": {},
     "output_type": "execute_result"
    },
    {
     "data": {
      "image/png": "[encoded data removed]",
      "text/plain": [
       "<Figure size 432x288 with 1 Axes>"
      ]
     },
     "metadata": {
      "needs_background": "light"
     },
     "output_type": "display_data"
    }
   ],
   "source": [
    "plt.title(\"Cyclically-Adjusted Price-to-Earnings ratio over time\")\n",
    "plt.plot(df[\"Year\"], df[\"PE10\"])\n",
    "plt.xlabel(\"Year\")\n",
    "plt.ylabel(\"PE10\")"
   ]
  },
  {
   "cell_type": "code",
   "execution_count": 118,
   "metadata": {},
   "outputs": [
    {
     "name": "stdout",
     "output_type": "stream",
     "text": [
      "429.4264943457189\n"
     ]
    }
   ],
   "source": [
    "growth_rate = (df[\"SP500\"][1643] - df[\"SP500\"][0]) / df[\"SP500\"][0]\n",
    "print(growth_rate)"
   ]
  },
  {
   "cell_type": "markdown",
   "metadata": {},
   "source": [
    "## Great Depression"
   ]
  },
  {
   "cell_type": "code",
   "execution_count": 126,
   "metadata": {},
   "outputs": [],
   "source": [
    "new_df = df[df.Year.between(1929, 1939)]"
   ]
  },
  {
   "cell_type": "code",
   "execution_count": 135,
   "metadata": {},
   "outputs": [
    {
     "data": {
      "image/png": "[encoded data removed]",
      "text/plain": [
       "<Figure size 432x288 with 1 Axes>"
      ]
     },
     "metadata": {
      "needs_background": "light"
     },
     "output_type": "display_data"
    }
   ],
   "source": [
    "plt.plot(new_df[\"Year\"], new_df[\"PE10\"], 'r-', label=\"PE10\")\n",
    "plt.plot(new_df[\"Year\"], new_df[\"Real Earnings\"], 'b-', label=\"Real Earnings\")\n",
    "plt.legend(loc='best')\n",
    "plt.show()"
   ]
  },
  {
   "cell_type": "code",
   "execution_count": 149,
   "metadata": {},
   "outputs": [
    {
     "data": {
      "text/plain": [
       "[<matplotlib.lines.Line2D at 0x7f7eb2b4d3d0>]"
      ]
     },
     "execution_count": 149,
     "metadata": {},
     "output_type": "execute_result"
    },
    {
     "data": {
      "image/png": "[encoded data removed]",
      "text/plain": [
       "<Figure size 432x288 with 1 Axes>"
      ]
     },
     "metadata": {
      "needs_background": "light"
     },
     "output_type": "display_data"
    }
   ],
   "source": [
    "plt.plot(new_df[\"Year\"], new_df[\"Real Price\"], 'g-')"
   ]
  },
  {
   "cell_type": "markdown",
   "metadata": {},
   "source": [
    "## 1973–1974 stock market crash"
   ]
  },
  {
   "cell_type": "code",
   "execution_count": 141,
   "metadata": {},
   "outputs": [],
   "source": [
    "new_df_smc = df[df.Year.between(1973, 1974)]"
   ]
  },
  {
   "cell_type": "code",
   "execution_count": 142,
   "metadata": {},
   "outputs": [
    {
     "data": {
      "image/png": "[encoded data removed]",
      "text/plain": [
       "<Figure size 432x288 with 1 Axes>"
      ]
     },
     "metadata": {
      "needs_background": "light"
     },
     "output_type": "display_data"
    }
   ],
   "source": [
    "plt.plot(new_df_smc[\"Year\"], new_df_smc[\"PE10\"], 'r-', label=\"PE10\")\n",
    "plt.plot(new_df_smc[\"Year\"], new_df_smc[\"Real Earnings\"], 'b-', label=\"Real Earnings\")\n",
    "plt.legend(loc='best')\n",
    "plt.show()"
   ]
  },
  {
   "cell_type": "code",
   "execution_count": 143,
   "metadata": {},
   "outputs": [
    {
     "data": {
      "text/plain": [
       "[<matplotlib.lines.Line2D at 0x7f7eb2824790>]"
      ]
     },
     "execution_count": 143,
     "metadata": {},
     "output_type": "execute_result"
    },
    {
     "data": {
      "image/png": "[encoded data removed]",
      "text/plain": [
       "<Figure size 432x288 with 1 Axes>"
      ]
     },
     "metadata": {
      "needs_background": "light"
     },
     "output_type": "display_data"
    }
   ],
   "source": [
    "plt.plot(new_df_smc[\"Year\"], new_df_smc[\"Real Price\"], 'g-')"
   ]
  },
  {
   "cell_type": "markdown",
   "metadata": {},
   "source": [
    "## Financial crisis of 2007–2008"
   ]
  },
  {
   "cell_type": "code",
   "execution_count": 150,
   "metadata": {},
   "outputs": [],
   "source": [
    "new_df_fc = df[df.Year.between(2007, 2008)]"
   ]
  },
  {
   "cell_type": "code",
   "execution_count": 151,
   "metadata": {},
   "outputs": [
    {
     "data": {
      "image/png": "[encoded data removed]",
      "text/plain": [
       "<Figure size 432x288 with 1 Axes>"
      ]
     },
     "metadata": {
      "needs_background": "light"
     },
     "output_type": "display_data"
    }
   ],
   "source": [
    "plt.plot(new_df_fc[\"Year\"], new_df_fc[\"PE10\"], 'r-', label=\"PE10\")\n",
    "plt.plot(new_df_fc[\"Year\"], new_df_fc[\"Real Earnings\"], 'b-', label=\"Real Earnings\")\n",
    "plt.legend(loc='best')\n",
    "plt.show()"
   ]
  },
  {
   "cell_type": "code",
   "execution_count": 154,
   "metadata": {},
   "outputs": [
    {
     "data": {
      "text/plain": [
       "[<matplotlib.lines.Line2D at 0x7f7eb292ea00>]"
      ]
     },
     "execution_count": 154,
     "metadata": {},
     "output_type": "execute_result"
    },
    {
     "data": {
      "image/png": "[encoded data removed]",
      "text/plain": [
       "<Figure size 432x288 with 1 Axes>"
      ]
     },
     "metadata": {
      "needs_background": "light"
     },
     "output_type": "display_data"
    }
   ],
   "source": [
    "plt.plot(new_df_fc[\"Year\"], new_df_fc[\"Real Price\"], 'g-')"
   ]
  },
  {
   "cell_type": "code",
   "execution_count": 158,
   "metadata": {},
   "outputs": [
    {
     "data": {
      "text/plain": [
       "[<matplotlib.lines.Line2D at 0x7f7eb26ff460>]"
      ]
     },
     "execution_count": 158,
     "metadata": {},
     "output_type": "execute_result"
    },
    {
     "data": {
      "image/png": "[encoded data removed]",
      "text/plain": [
       "<Figure size 432x288 with 1 Axes>"
      ]
     },
     "metadata": {
      "needs_background": "light"
     },
     "output_type": "display_data"
    }
   ],
   "source": [
    "plt.plot(new_df_fc[\"Year\"], new_df_fc[\"SP500\"], 'y-')"
   ]
  }
 ],
 "metadata": {
  "kernelspec": {
   "display_name": "Python 3",
   "language": "python",
   "name": "python3"
  },
  "language_info": {
   "codemirror_mode": {
    "name": "ipython",
    "version": 3
   },
   "file_extension": ".py",
   "mimetype": "text/x-python",
   "name": "python",
   "nbconvert_exporter": "python",
   "pygments_lexer": "ipython3",
   "version": "3.8.3"
  }
 },
 "nbformat": 4,
 "nbformat_minor": 4
}
