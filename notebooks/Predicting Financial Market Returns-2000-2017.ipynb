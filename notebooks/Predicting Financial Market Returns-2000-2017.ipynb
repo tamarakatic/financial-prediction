{
 "cells": [
  {
   "cell_type": "code",
   "execution_count": 1,
   "metadata": {},
   "outputs": [],
   "source": [
    "import pandas as pd\n",
    "import matplotlib.pyplot as plt\n",
    "import seaborn as sns\n",
    "import numpy as np\n",
    "import math\n",
    "\n",
    "from statsmodels.stats.outliers_influence import variance_inflation_factor\n",
    "\n",
    "from sklearn.model_selection import train_test_split\n",
    "from sklearn.metrics import mean_squared_error, r2_score\n",
    "from sklearn.model_selection import cross_val_score\n",
    "from sklearn.linear_model import LinearRegression\n",
    "from sklearn.decomposition import PCA\n",
    "from sklearn.preprocessing import MinMaxScaler\n",
    "\n",
    "%matplotlib inline\n",
    "sns.set()"
   ]
  },
  {
   "cell_type": "code",
   "execution_count": 2,
   "metadata": {},
   "outputs": [],
   "source": [
    "df = pd.read_csv(\"../data/data_csv.csv\")"
   ]
  },
  {
   "cell_type": "code",
   "execution_count": 3,
   "metadata": {},
   "outputs": [],
   "source": [
    "df[\"Year\"] = pd.DatetimeIndex(df['Date']).year "
   ]
  },
  {
   "cell_type": "code",
   "execution_count": 4,
   "metadata": {},
   "outputs": [
    {
     "name": "stdout",
     "output_type": "stream",
     "text": [
      "               features  vif_Factor\n",
      "0                 SP500  381.962424\n",
      "1              Dividend  288.972458\n",
      "2              Earnings  144.001576\n",
      "3  Consumer Price Index   40.233282\n",
      "4    Long Interest Rate   11.172129\n",
      "5            Real Price  386.726001\n",
      "6         Real Dividend  293.661481\n",
      "7         Real Earnings  163.017104\n",
      "8                  PE10   48.355051\n",
      "9                  Year   68.838492\n",
      "\n",
      "If VIF value is higher than 10, it is usually considered having high correlation with other independent variables.\n"
     ]
    }
   ],
   "source": [
    "vif = pd.DataFrame()\n",
    "df_vif = df.drop(\"Date\", axis=1)\n",
    "vif[\"features\"] = df_vif.columns\n",
    "vif[\"vif_Factor\"] = [variance_inflation_factor(df_vif.values, i) for i in range(df_vif.shape[1])]\n",
    "\n",
    "print(vif)\n",
    "print(\"\\nIf VIF value is higher than 10, it is usually considered having high correlation with other independent variables.\")"
   ]
  },
  {
   "cell_type": "markdown",
   "metadata": {},
   "source": [
    "\"Variance inflation factor (VIF) is a measure of the amount of multicollinearity in a set of multiple regression variables. Mathematically, the VIF for a regression model variable is equal to the ratio of the overall model variance to the variance of a model that includes only that single independent variable. This ratio is calculated for each independent variable. A high VIF indicates that the associated independent variable is highly collinear with the other variables in the model.\""
   ]
  },
  {
   "cell_type": "code",
   "execution_count": 5,
   "metadata": {},
   "outputs": [
    {
     "data": {
      "text/plain": [
       "(array([904., 302., 167.,  27.,  45.,  87.,  42.,  44.,  18.,   8.]),\n",
       " array([  87.63,  348.88,  610.13,  871.38, 1132.63, 1393.88, 1655.13,\n",
       "        1916.38, 2177.63, 2438.88, 2700.13]),\n",
       " <a list of 10 Patch objects>)"
      ]
     },
     "execution_count": 5,
     "metadata": {},
     "output_type": "execute_result"
    },
    {
     "data": {
      "image/png": "[encoded data removed]",
      "text/plain": [
       "<Figure size 432x288 with 1 Axes>"
      ]
     },
     "metadata": {},
     "output_type": "display_data"
    }
   ],
   "source": [
    "plt.hist(df[\"Real Price\"])"
   ]
  },
  {
   "cell_type": "code",
   "execution_count": 6,
   "metadata": {},
   "outputs": [
    {
     "data": {
      "text/plain": [
       "(array([565., 320., 319., 231.,  89.,  39.,  29.,  14.,  12.,  26.]),\n",
       " array([ 6.22 , 10.557, 14.894, 19.231, 23.568, 27.905, 32.242, 36.579,\n",
       "        40.916, 45.253, 49.59 ]),\n",
       " <a list of 10 Patch objects>)"
      ]
     },
     "execution_count": 6,
     "metadata": {},
     "output_type": "execute_result"
    },
    {
     "data": {
      "image/png": "[encoded data removed]",
      "text/plain": [
       "<Figure size 432x288 with 1 Axes>"
      ]
     },
     "metadata": {},
     "output_type": "display_data"
    }
   ],
   "source": [
    "plt.hist(df[\"Real Dividend\"])"
   ]
  },
  {
   "cell_type": "code",
   "execution_count": 7,
   "metadata": {},
   "outputs": [
    {
     "data": {
      "text/plain": [
       "(array([ 48., 313., 366., 172., 201., 176., 104.,  59., 135.,  70.]),\n",
       " array([4.47312341, 4.81591658, 5.15870976, 5.50150294, 5.84429612,\n",
       "        6.1870893 , 6.52988248, 6.87267566, 7.21546884, 7.55826202,\n",
       "        7.9010552 ]),\n",
       " <a list of 10 Patch objects>)"
      ]
     },
     "execution_count": 7,
     "metadata": {},
     "output_type": "execute_result"
    },
    {
     "data": {
      "image/png": "[encoded data removed]",
      "text/plain": [
       "<Figure size 432x288 with 1 Axes>"
      ]
     },
     "metadata": {},
     "output_type": "display_data"
    }
   ],
   "source": [
    "from scipy.stats import boxcox\n",
    "\n",
    "data = boxcox(df[\"Real Price\"], 0)\n",
    "plt.hist(data)"
   ]
  },
  {
   "cell_type": "markdown",
   "metadata": {},
   "source": [
    "### To calculate real returns we use the formula:\n",
    "return[t] = return[t-1] * (((Real Price[t] - Real Price[t-1]) / Real Price[t-1])) + 1) + (Real Dividend[t-1]/RealPrice[t-1])"
   ]
  },
  {
   "cell_type": "code",
   "execution_count": 8,
   "metadata": {},
   "outputs": [],
   "source": [
    "def calculate_real_return(start_year, end_year, previous_return, df_s):\n",
    "    df_new_s = df_s[(df_s[\"Year\"] >= start_year) & (df_s[\"Year\"] < end_year)].reset_index(drop=True)\n",
    "    \n",
    "    diff_price = ((df_new_s[\"Real Price\"].values[-1] - df_new_s[\"Real Price\"].values[0]) / (df_new_s[\"Real Price\"].values[0])) + 1\n",
    "    cum_return = previous_return * diff_price\n",
    "    reinvested_dividens = cum_return + (df_new_s[\"Real Dividend\"].values[0] / df_new_s[\"Real Price\"].values[0])\n",
    "\n",
    "    return reinvested_dividens"
   ]
  },
  {
   "cell_type": "code",
   "execution_count": 9,
   "metadata": {},
   "outputs": [],
   "source": [
    "start_y = 2000\n",
    "end_y = 2018\n",
    "\n",
    "previous_real_returns = []\n",
    "previous_real_returns.append(1) # start with investing one dollar at the begining\n",
    "i = 0\n",
    "\n",
    "for y in range(start_y, end_y):\n",
    "    real_return = calculate_real_return(y, y+1, previous_real_returns[i], df) \n",
    "    previous_real_returns.append(real_return)\n",
    "    i += 1"
   ]
  },
  {
   "cell_type": "code",
   "execution_count": 10,
   "metadata": {},
   "outputs": [
    {
     "data": {
      "text/plain": [
       "19"
      ]
     },
     "execution_count": 10,
     "metadata": {},
     "output_type": "execute_result"
    }
   ],
   "source": [
    "len(previous_real_returns)"
   ]
  },
  {
   "cell_type": "code",
   "execution_count": 11,
   "metadata": {},
   "outputs": [],
   "source": [
    "return_val = []\n",
    "year = start_y\n",
    "i = 0\n",
    "year_count = []\n",
    "\n",
    "df_new = df[df.Year>=start_y].reset_index(drop=True)\n",
    "\n",
    "for idx, row in df_new.iterrows():\n",
    "    if row.Year == year:\n",
    "        return_val.append(previous_real_returns[i])\n",
    "        year_count.append(i)\n",
    "    else:\n",
    "        year += 1\n",
    "        i += 1\n",
    "        return_val.append(previous_real_returns[i])\n",
    "        year_count.append(i)"
   ]
  },
  {
   "cell_type": "code",
   "execution_count": 12,
   "metadata": {},
   "outputs": [],
   "source": [
    "df_new = df_new.drop(\"Date\", axis=1)\n",
    "df_new[\"Return\"] = return_val\n",
    "df_new[\"InvestedYears\"] = year_count\n",
    "df_new = df_new.drop(\"Year\", axis=1)"
   ]
  },
  {
   "cell_type": "code",
   "execution_count": 13,
   "metadata": {},
   "outputs": [
    {
     "data": {
      "text/html": [
       "<div>\n",
       "<style scoped>\n",
       "    .dataframe tbody tr th:only-of-type {\n",
       "        vertical-align: middle;\n",
       "    }\n",
       "\n",
       "    .dataframe tbody tr th {\n",
       "        vertical-align: top;\n",
       "    }\n",
       "\n",
       "    .dataframe thead th {\n",
       "        text-align: right;\n",
       "    }\n",
       "</style>\n",
       "<table border=\"1\" class=\"dataframe\">\n",
       "  <thead>\n",
       "    <tr style=\"text-align: right;\">\n",
       "      <th></th>\n",
       "      <th>SP500</th>\n",
       "      <th>Dividend</th>\n",
       "      <th>Earnings</th>\n",
       "      <th>Consumer Price Index</th>\n",
       "      <th>Long Interest Rate</th>\n",
       "      <th>Real Price</th>\n",
       "      <th>Real Dividend</th>\n",
       "      <th>Real Earnings</th>\n",
       "      <th>PE10</th>\n",
       "      <th>Return</th>\n",
       "      <th>InvestedYears</th>\n",
       "    </tr>\n",
       "  </thead>\n",
       "  <tbody>\n",
       "    <tr>\n",
       "      <th>0</th>\n",
       "      <td>1425.59</td>\n",
       "      <td>16.71</td>\n",
       "      <td>49.10</td>\n",
       "      <td>168.8</td>\n",
       "      <td>6.66</td>\n",
       "      <td>2109.97</td>\n",
       "      <td>24.74</td>\n",
       "      <td>72.67</td>\n",
       "      <td>43.77</td>\n",
       "      <td>1.0</td>\n",
       "      <td>0</td>\n",
       "    </tr>\n",
       "    <tr>\n",
       "      <th>1</th>\n",
       "      <td>1388.87</td>\n",
       "      <td>16.74</td>\n",
       "      <td>50.02</td>\n",
       "      <td>169.8</td>\n",
       "      <td>6.52</td>\n",
       "      <td>2043.52</td>\n",
       "      <td>24.63</td>\n",
       "      <td>73.60</td>\n",
       "      <td>42.19</td>\n",
       "      <td>1.0</td>\n",
       "      <td>0</td>\n",
       "    </tr>\n",
       "    <tr>\n",
       "      <th>2</th>\n",
       "      <td>1442.21</td>\n",
       "      <td>16.76</td>\n",
       "      <td>50.95</td>\n",
       "      <td>171.2</td>\n",
       "      <td>6.26</td>\n",
       "      <td>2104.65</td>\n",
       "      <td>24.46</td>\n",
       "      <td>74.35</td>\n",
       "      <td>43.22</td>\n",
       "      <td>1.0</td>\n",
       "      <td>0</td>\n",
       "    </tr>\n",
       "    <tr>\n",
       "      <th>3</th>\n",
       "      <td>1461.36</td>\n",
       "      <td>16.74</td>\n",
       "      <td>51.27</td>\n",
       "      <td>171.3</td>\n",
       "      <td>5.99</td>\n",
       "      <td>2131.35</td>\n",
       "      <td>24.41</td>\n",
       "      <td>74.78</td>\n",
       "      <td>43.53</td>\n",
       "      <td>1.0</td>\n",
       "      <td>0</td>\n",
       "    </tr>\n",
       "    <tr>\n",
       "      <th>4</th>\n",
       "      <td>1418.48</td>\n",
       "      <td>16.72</td>\n",
       "      <td>51.60</td>\n",
       "      <td>171.5</td>\n",
       "      <td>6.44</td>\n",
       "      <td>2066.39</td>\n",
       "      <td>24.36</td>\n",
       "      <td>75.16</td>\n",
       "      <td>41.97</td>\n",
       "      <td>1.0</td>\n",
       "      <td>0</td>\n",
       "    </tr>\n",
       "  </tbody>\n",
       "</table>\n",
       "</div>"
      ],
      "text/plain": [
       "     SP500  Dividend  Earnings  Consumer Price Index  Long Interest Rate  \\\n",
       "0  1425.59     16.71     49.10                 168.8                6.66   \n",
       "1  1388.87     16.74     50.02                 169.8                6.52   \n",
       "2  1442.21     16.76     50.95                 171.2                6.26   \n",
       "3  1461.36     16.74     51.27                 171.3                5.99   \n",
       "4  1418.48     16.72     51.60                 171.5                6.44   \n",
       "\n",
       "   Real Price  Real Dividend  Real Earnings   PE10  Return  InvestedYears  \n",
       "0     2109.97          24.74          72.67  43.77     1.0              0  \n",
       "1     2043.52          24.63          73.60  42.19     1.0              0  \n",
       "2     2104.65          24.46          74.35  43.22     1.0              0  \n",
       "3     2131.35          24.41          74.78  43.53     1.0              0  \n",
       "4     2066.39          24.36          75.16  41.97     1.0              0  "
      ]
     },
     "execution_count": 13,
     "metadata": {},
     "output_type": "execute_result"
    }
   ],
   "source": [
    "df_new.head()"
   ]
  },
  {
   "cell_type": "code",
   "execution_count": 14,
   "metadata": {},
   "outputs": [
    {
     "data": {
      "image/png": "[encoded data removed]",
      "text/plain": [
       "<Figure size 576x576 with 2 Axes>"
      ]
     },
     "metadata": {},
     "output_type": "display_data"
    },
    {
     "name": "stdout",
     "output_type": "stream",
     "text": [
      "select those independent variables with high correlation with dependent variable\n"
     ]
    }
   ],
   "source": [
    "plt.figure(figsize=(8, 8))\n",
    "sns.heatmap(df_new.corr(), annot=True, cmap=plt.cm.Blues)\n",
    "plt.show()\n",
    "\n",
    "print(\"select those independent variables with high correlation with dependent variable\")"
   ]
  },
  {
   "cell_type": "code",
   "execution_count": 15,
   "metadata": {},
   "outputs": [
    {
     "data": {
      "text/plain": [
       "<matplotlib.collections.PathCollection at 0x7f1e0a57af10>"
      ]
     },
     "execution_count": 15,
     "metadata": {},
     "output_type": "execute_result"
    },
    {
     "data": {
      "image/png": "[encoded data removed]",
      "text/plain": [
       "<Figure size 432x288 with 1 Axes>"
      ]
     },
     "metadata": {},
     "output_type": "display_data"
    }
   ],
   "source": [
    "plt.scatter(df_new[\"Real Price\"], df_new[\"Return\"])"
   ]
  },
  {
   "cell_type": "code",
   "execution_count": 16,
   "metadata": {},
   "outputs": [
    {
     "data": {
      "text/plain": [
       "<matplotlib.collections.PathCollection at 0x7f1e08b48760>"
      ]
     },
     "execution_count": 16,
     "metadata": {},
     "output_type": "execute_result"
    },
    {
     "data": {
      "image/png": "[encoded data removed]",
      "text/plain": [
       "<Figure size 432x288 with 1 Axes>"
      ]
     },
     "metadata": {},
     "output_type": "display_data"
    }
   ],
   "source": [
    "plt.scatter(df_new[\"SP500\"], df_new[\"Return\"])"
   ]
  },
  {
   "cell_type": "code",
   "execution_count": 17,
   "metadata": {},
   "outputs": [
    {
     "data": {
      "text/plain": [
       "<matplotlib.collections.PathCollection at 0x7f1e0a5283a0>"
      ]
     },
     "execution_count": 17,
     "metadata": {},
     "output_type": "execute_result"
    },
    {
     "data": {
      "image/png": "[encoded data removed]",
      "text/plain": [
       "<Figure size 432x288 with 1 Axes>"
      ]
     },
     "metadata": {},
     "output_type": "display_data"
    }
   ],
   "source": [
    "plt.scatter(df_new[\"InvestedYears\"], df_new[\"Return\"])"
   ]
  },
  {
   "cell_type": "code",
   "execution_count": 18,
   "metadata": {},
   "outputs": [
    {
     "name": "stdout",
     "output_type": "stream",
     "text": [
      "     features  vif_Factor\n",
      "0       SP500   74.213667\n",
      "1  Real Price   74.213667\n",
      "\n",
      "If VIF value is higher than 10, it is usually considered having high correlation with other independent variables.\n"
     ]
    }
   ],
   "source": [
    "vif = pd.DataFrame()\n",
    "df_vif = df_new[[\"SP500\", \"Real Price\"]]\n",
    "vif[\"features\"] = df_vif.columns\n",
    "vif[\"vif_Factor\"] = [variance_inflation_factor(df_vif.values, i) for i in range(df_vif.shape[1])]\n",
    "\n",
    "print(vif)\n",
    "print(\"\\nIf VIF value is higher than 10, it is usually considered having high correlation with other independent variables.\")"
   ]
  },
  {
   "cell_type": "code",
   "execution_count": 19,
   "metadata": {},
   "outputs": [],
   "source": [
    "X = df_new[[\"SP500\", \"InvestedYears\", \"Real Price\"]]\n",
    "y = df_new[[\"Return\"]]"
   ]
  },
  {
   "cell_type": "code",
   "execution_count": 20,
   "metadata": {},
   "outputs": [],
   "source": [
    "X_train, X_test, y_train, y_test = train_test_split(X, y, test_size=0.25, random_state=1)"
   ]
  },
  {
   "cell_type": "code",
   "execution_count": 21,
   "metadata": {},
   "outputs": [
    {
     "data": {
      "text/html": [
       "<table class=\"simpletable\">\n",
       "<caption>OLS Regression Results</caption>\n",
       "<tr>\n",
       "  <th>Dep. Variable:</th>         <td>Return</td>      <th>  R-squared:         </th> <td>   0.908</td>\n",
       "</tr>\n",
       "<tr>\n",
       "  <th>Model:</th>                   <td>OLS</td>       <th>  Adj. R-squared:    </th> <td>   0.906</td>\n",
       "</tr>\n",
       "<tr>\n",
       "  <th>Method:</th>             <td>Least Squares</td>  <th>  F-statistic:       </th> <td>   519.8</td>\n",
       "</tr>\n",
       "<tr>\n",
       "  <th>Date:</th>             <td>Tue, 20 Oct 2020</td> <th>  Prob (F-statistic):</th> <td>1.33e-81</td>\n",
       "</tr>\n",
       "<tr>\n",
       "  <th>Time:</th>                 <td>18:38:19</td>     <th>  Log-Likelihood:    </th> <td>  187.58</td>\n",
       "</tr>\n",
       "<tr>\n",
       "  <th>No. Observations:</th>      <td>   162</td>      <th>  AIC:               </th> <td>  -367.2</td>\n",
       "</tr>\n",
       "<tr>\n",
       "  <th>Df Residuals:</th>          <td>   158</td>      <th>  BIC:               </th> <td>  -354.8</td>\n",
       "</tr>\n",
       "<tr>\n",
       "  <th>Df Model:</th>              <td>     3</td>      <th>                     </th>     <td> </td>   \n",
       "</tr>\n",
       "<tr>\n",
       "  <th>Covariance Type:</th>      <td>nonrobust</td>    <th>                     </th>     <td> </td>   \n",
       "</tr>\n",
       "</table>\n",
       "<table class=\"simpletable\">\n",
       "<tr>\n",
       "        <td></td>           <th>coef</th>     <th>std err</th>      <th>t</th>      <th>P>|t|</th>  <th>[0.025</th>    <th>0.975]</th>  \n",
       "</tr>\n",
       "<tr>\n",
       "  <th>const</th>         <td>    0.1234</td> <td>    0.071</td> <td>    1.745</td> <td> 0.083</td> <td>   -0.016</td> <td>    0.263</td>\n",
       "</tr>\n",
       "<tr>\n",
       "  <th>SP500</th>         <td>    0.0005</td> <td>    0.000</td> <td>    2.288</td> <td> 0.023</td> <td> 7.09e-05</td> <td>    0.001</td>\n",
       "</tr>\n",
       "<tr>\n",
       "  <th>InvestedYears</th> <td>    0.0018</td> <td>    0.008</td> <td>    0.232</td> <td> 0.817</td> <td>   -0.013</td> <td>    0.017</td>\n",
       "</tr>\n",
       "<tr>\n",
       "  <th>Real Price</th>    <td> 5.047e-05</td> <td>    0.000</td> <td>    0.260</td> <td> 0.795</td> <td>   -0.000</td> <td>    0.000</td>\n",
       "</tr>\n",
       "</table>\n",
       "<table class=\"simpletable\">\n",
       "<tr>\n",
       "  <th>Omnibus:</th>       <td>18.397</td> <th>  Durbin-Watson:     </th> <td>   2.183</td>\n",
       "</tr>\n",
       "<tr>\n",
       "  <th>Prob(Omnibus):</th> <td> 0.000</td> <th>  Jarque-Bera (JB):  </th> <td>  28.750</td>\n",
       "</tr>\n",
       "<tr>\n",
       "  <th>Skew:</th>          <td> 0.609</td> <th>  Prob(JB):          </th> <td>5.72e-07</td>\n",
       "</tr>\n",
       "<tr>\n",
       "  <th>Kurtosis:</th>      <td> 4.667</td> <th>  Cond. No.          </th> <td>2.69e+04</td>\n",
       "</tr>\n",
       "</table><br/><br/>Notes:<br/>[1] Standard Errors assume that the covariance matrix of the errors is correctly specified.<br/>[2] The condition number is large, 2.69e+04. This might indicate that there are<br/>strong multicollinearity or other numerical problems."
      ],
      "text/plain": [
       "<class 'statsmodels.iolib.summary.Summary'>\n",
       "\"\"\"\n",
       "                            OLS Regression Results                            \n",
       "==============================================================================\n",
       "Dep. Variable:                 Return   R-squared:                       0.908\n",
       "Model:                            OLS   Adj. R-squared:                  0.906\n",
       "Method:                 Least Squares   F-statistic:                     519.8\n",
       "Date:                Tue, 20 Oct 2020   Prob (F-statistic):           1.33e-81\n",
       "Time:                        18:38:19   Log-Likelihood:                 187.58\n",
       "No. Observations:                 162   AIC:                            -367.2\n",
       "Df Residuals:                     158   BIC:                            -354.8\n",
       "Df Model:                           3                                         \n",
       "Covariance Type:            nonrobust                                         \n",
       "=================================================================================\n",
       "                    coef    std err          t      P>|t|      [0.025      0.975]\n",
       "---------------------------------------------------------------------------------\n",
       "const             0.1234      0.071      1.745      0.083      -0.016       0.263\n",
       "SP500             0.0005      0.000      2.288      0.023    7.09e-05       0.001\n",
       "InvestedYears     0.0018      0.008      0.232      0.817      -0.013       0.017\n",
       "Real Price     5.047e-05      0.000      0.260      0.795      -0.000       0.000\n",
       "==============================================================================\n",
       "Omnibus:                       18.397   Durbin-Watson:                   2.183\n",
       "Prob(Omnibus):                  0.000   Jarque-Bera (JB):               28.750\n",
       "Skew:                           0.609   Prob(JB):                     5.72e-07\n",
       "Kurtosis:                       4.667   Cond. No.                     2.69e+04\n",
       "==============================================================================\n",
       "\n",
       "Notes:\n",
       "[1] Standard Errors assume that the covariance matrix of the errors is correctly specified.\n",
       "[2] The condition number is large, 2.69e+04. This might indicate that there are\n",
       "strong multicollinearity or other numerical problems.\n",
       "\"\"\""
      ]
     },
     "execution_count": 21,
     "metadata": {},
     "output_type": "execute_result"
    }
   ],
   "source": [
    "import statsmodels.api as sm\n",
    "\n",
    "X_train_sm = sm.add_constant(X_train)\n",
    "model = sm.OLS(y_train, X_train_sm).fit()\n",
    "model.summary()"
   ]
  },
  {
   "cell_type": "code",
   "execution_count": 22,
   "metadata": {},
   "outputs": [
    {
     "name": "stdout",
     "output_type": "stream",
     "text": [
      "const            0.082956\n",
      "SP500            0.023487\n",
      "InvestedYears    0.817005\n",
      "Real Price       0.795232\n",
      "dtype: float64\n"
     ]
    }
   ],
   "source": [
    "print(model.pvalues)"
   ]
  },
  {
   "cell_type": "code",
   "execution_count": 23,
   "metadata": {},
   "outputs": [],
   "source": [
    "lr = LinearRegression().fit(X_train, y_train)"
   ]
  },
  {
   "cell_type": "code",
   "execution_count": 24,
   "metadata": {},
   "outputs": [],
   "source": [
    "def get_cv_scores(model):\n",
    "    scores = cross_val_score(model, X_train, y_train, cv=10, scoring='r2')\n",
    "    \n",
    "    print('CV Mean: ', np.mean(scores))\n",
    "    print('STD: ', np.std(scores))\n",
    "    print('\\n')"
   ]
  },
  {
   "cell_type": "code",
   "execution_count": 25,
   "metadata": {},
   "outputs": [
    {
     "name": "stdout",
     "output_type": "stream",
     "text": [
      "CV Mean:  0.8932080925642782\n",
      "STD:  0.035060334880332875\n",
      "\n",
      "\n"
     ]
    }
   ],
   "source": [
    "get_cv_scores(lr)"
   ]
  },
  {
   "cell_type": "code",
   "execution_count": 26,
   "metadata": {},
   "outputs": [],
   "source": [
    "y_pred = lr.predict(X_test)"
   ]
  },
  {
   "cell_type": "code",
   "execution_count": 27,
   "metadata": {},
   "outputs": [
    {
     "name": "stdout",
     "output_type": "stream",
     "text": [
      "Mean squared error: 0.01\n",
      "Coefficient of determination: 0.90\n"
     ]
    }
   ],
   "source": [
    "# The mean squared error\n",
    "print('Mean squared error: %.2f'\n",
    "      % mean_squared_error(y_test, y_pred))\n",
    "# The coefficient of determination: 1 is perfect prediction\n",
    "print('Coefficient of determination: %.2f'\n",
    "      % r2_score(y_test, y_pred))"
   ]
  },
  {
   "cell_type": "markdown",
   "metadata": {},
   "source": [
    "## Using PCA to transform features"
   ]
  },
  {
   "cell_type": "code",
   "execution_count": 28,
   "metadata": {},
   "outputs": [],
   "source": [
    "y = df_new[[\"Return\"]]\n",
    "X = df_new.drop(\"Return\", axis=1)"
   ]
  },
  {
   "cell_type": "code",
   "execution_count": 29,
   "metadata": {},
   "outputs": [],
   "source": [
    "X_train, X_test, y_train, y_test = train_test_split(X, y, test_size=0.25, random_state=1)"
   ]
  },
  {
   "cell_type": "code",
   "execution_count": 30,
   "metadata": {},
   "outputs": [],
   "source": [
    "def transform_features(num_components):\n",
    "    scaler = MinMaxScaler()\n",
    "    X_train_minmax = scaler.fit_transform(X_train)\n",
    "    X_test_minmax = scaler.transform(X_test)\n",
    "    \n",
    "    pca = PCA(n_components=num_components)\n",
    "    X_train_pca = pca.fit_transform(X_train_minmax)\n",
    "    X_test_pca = pca.transform(X_test_minmax)\n",
    "    return pca, X_train_pca, X_test_pca"
   ]
  },
  {
   "cell_type": "code",
   "execution_count": 31,
   "metadata": {},
   "outputs": [],
   "source": [
    "pca, X_train_pca, X_test_pca = transform_features(0.99)"
   ]
  },
  {
   "cell_type": "code",
   "execution_count": 32,
   "metadata": {},
   "outputs": [],
   "source": [
    "lr = LinearRegression().fit(X_train_pca, y_train)"
   ]
  },
  {
   "cell_type": "code",
   "execution_count": 33,
   "metadata": {},
   "outputs": [],
   "source": [
    "y_pred = lr.predict(X_test_pca)"
   ]
  },
  {
   "cell_type": "code",
   "execution_count": 34,
   "metadata": {},
   "outputs": [
    {
     "name": "stdout",
     "output_type": "stream",
     "text": [
      "Mean squared error: 0.01\n",
      "Coefficient of determination: 0.92\n"
     ]
    }
   ],
   "source": [
    "# The mean squared error\n",
    "print('Mean squared error: %.2f' % mean_squared_error(y_test, y_pred))\n",
    "# The coefficient of determination: 1 is perfect prediction\n",
    "print('Coefficient of determination: %.2f' % r2_score(y_test, y_pred))"
   ]
  },
  {
   "cell_type": "code",
   "execution_count": 35,
   "metadata": {},
   "outputs": [
    {
     "data": {
      "text/html": [
       "<table class=\"simpletable\">\n",
       "<caption>OLS Regression Results</caption>\n",
       "<tr>\n",
       "  <th>Dep. Variable:</th>         <td>Return</td>      <th>  R-squared:         </th> <td>   0.918</td>\n",
       "</tr>\n",
       "<tr>\n",
       "  <th>Model:</th>                   <td>OLS</td>       <th>  Adj. R-squared:    </th> <td>   0.916</td>\n",
       "</tr>\n",
       "<tr>\n",
       "  <th>Method:</th>             <td>Least Squares</td>  <th>  F-statistic:       </th> <td>   440.7</td>\n",
       "</tr>\n",
       "<tr>\n",
       "  <th>Date:</th>             <td>Tue, 20 Oct 2020</td> <th>  Prob (F-statistic):</th> <td>3.19e-84</td>\n",
       "</tr>\n",
       "<tr>\n",
       "  <th>Time:</th>                 <td>18:38:20</td>     <th>  Log-Likelihood:    </th> <td>  197.13</td>\n",
       "</tr>\n",
       "<tr>\n",
       "  <th>No. Observations:</th>      <td>   162</td>      <th>  AIC:               </th> <td>  -384.3</td>\n",
       "</tr>\n",
       "<tr>\n",
       "  <th>Df Residuals:</th>          <td>   157</td>      <th>  BIC:               </th> <td>  -368.8</td>\n",
       "</tr>\n",
       "<tr>\n",
       "  <th>Df Model:</th>              <td>     4</td>      <th>                     </th>     <td> </td>   \n",
       "</tr>\n",
       "<tr>\n",
       "  <th>Covariance Type:</th>      <td>nonrobust</td>    <th>                     </th>     <td> </td>   \n",
       "</tr>\n",
       "</table>\n",
       "<table class=\"simpletable\">\n",
       "<tr>\n",
       "    <td></td>       <th>coef</th>     <th>std err</th>      <th>t</th>      <th>P>|t|</th>  <th>[0.025</th>    <th>0.975]</th>  \n",
       "</tr>\n",
       "<tr>\n",
       "  <th>const</th> <td>    0.9745</td> <td>    0.006</td> <td>  170.385</td> <td> 0.000</td> <td>    0.963</td> <td>    0.986</td>\n",
       "</tr>\n",
       "<tr>\n",
       "  <th>x1</th>    <td>    0.2981</td> <td>    0.008</td> <td>   36.220</td> <td> 0.000</td> <td>    0.282</td> <td>    0.314</td>\n",
       "</tr>\n",
       "<tr>\n",
       "  <th>x2</th>    <td>   -0.2912</td> <td>    0.017</td> <td>  -16.953</td> <td> 0.000</td> <td>   -0.325</td> <td>   -0.257</td>\n",
       "</tr>\n",
       "<tr>\n",
       "  <th>x3</th>    <td>    0.3107</td> <td>    0.025</td> <td>   12.337</td> <td> 0.000</td> <td>    0.261</td> <td>    0.360</td>\n",
       "</tr>\n",
       "<tr>\n",
       "  <th>x4</th>    <td>   -0.1999</td> <td>    0.059</td> <td>   -3.385</td> <td> 0.001</td> <td>   -0.317</td> <td>   -0.083</td>\n",
       "</tr>\n",
       "</table>\n",
       "<table class=\"simpletable\">\n",
       "<tr>\n",
       "  <th>Omnibus:</th>       <td> 2.637</td> <th>  Durbin-Watson:     </th> <td>   2.090</td>\n",
       "</tr>\n",
       "<tr>\n",
       "  <th>Prob(Omnibus):</th> <td> 0.268</td> <th>  Jarque-Bera (JB):  </th> <td>   2.347</td>\n",
       "</tr>\n",
       "<tr>\n",
       "  <th>Skew:</th>          <td> 0.292</td> <th>  Prob(JB):          </th> <td>   0.309</td>\n",
       "</tr>\n",
       "<tr>\n",
       "  <th>Kurtosis:</th>      <td> 3.079</td> <th>  Cond. No.          </th> <td>    10.3</td>\n",
       "</tr>\n",
       "</table><br/><br/>Notes:<br/>[1] Standard Errors assume that the covariance matrix of the errors is correctly specified."
      ],
      "text/plain": [
       "<class 'statsmodels.iolib.summary.Summary'>\n",
       "\"\"\"\n",
       "                            OLS Regression Results                            \n",
       "==============================================================================\n",
       "Dep. Variable:                 Return   R-squared:                       0.918\n",
       "Model:                            OLS   Adj. R-squared:                  0.916\n",
       "Method:                 Least Squares   F-statistic:                     440.7\n",
       "Date:                Tue, 20 Oct 2020   Prob (F-statistic):           3.19e-84\n",
       "Time:                        18:38:20   Log-Likelihood:                 197.13\n",
       "No. Observations:                 162   AIC:                            -384.3\n",
       "Df Residuals:                     157   BIC:                            -368.8\n",
       "Df Model:                           4                                         \n",
       "Covariance Type:            nonrobust                                         \n",
       "==============================================================================\n",
       "                 coef    std err          t      P>|t|      [0.025      0.975]\n",
       "------------------------------------------------------------------------------\n",
       "const          0.9745      0.006    170.385      0.000       0.963       0.986\n",
       "x1             0.2981      0.008     36.220      0.000       0.282       0.314\n",
       "x2            -0.2912      0.017    -16.953      0.000      -0.325      -0.257\n",
       "x3             0.3107      0.025     12.337      0.000       0.261       0.360\n",
       "x4            -0.1999      0.059     -3.385      0.001      -0.317      -0.083\n",
       "==============================================================================\n",
       "Omnibus:                        2.637   Durbin-Watson:                   2.090\n",
       "Prob(Omnibus):                  0.268   Jarque-Bera (JB):                2.347\n",
       "Skew:                           0.292   Prob(JB):                        0.309\n",
       "Kurtosis:                       3.079   Cond. No.                         10.3\n",
       "==============================================================================\n",
       "\n",
       "Notes:\n",
       "[1] Standard Errors assume that the covariance matrix of the errors is correctly specified.\n",
       "\"\"\""
      ]
     },
     "execution_count": 35,
     "metadata": {},
     "output_type": "execute_result"
    }
   ],
   "source": [
    "X_train_sm = sm.add_constant(X_train_pca)\n",
    "model = sm.OLS(y_train, X_train_sm).fit()\n",
    "model.summary()"
   ]
  },
  {
   "cell_type": "code",
   "execution_count": 36,
   "metadata": {},
   "outputs": [
    {
     "name": "stdout",
     "output_type": "stream",
     "text": [
      "Mean cross-validation score: 0.8983\n"
     ]
    }
   ],
   "source": [
    "cv = cross_val_score( LinearRegression(), X_train_pca, y_train, cv=10)\n",
    "print(f\"Mean cross-validation score: {cv.mean():.4f}\")"
   ]
  },
  {
   "cell_type": "code",
   "execution_count": 37,
   "metadata": {},
   "outputs": [
    {
     "data": {
      "image/png": "[encoded data removed]",
      "text/plain": [
       "<Figure size 864x432 with 1 Axes>"
      ]
     },
     "metadata": {},
     "output_type": "display_data"
    }
   ],
   "source": [
    "plt.rcParams[\"figure.figsize\"] = (12,6)\n",
    "\n",
    "fig, ax = plt.subplots()\n",
    "end_d = 6 if start_y != 2000 else 5\n",
    "xi = np.arange(1, end_d, step=1)\n",
    "y = np.cumsum(pca.explained_variance_ratio_)\n",
    "\n",
    "plt.ylim(0.0,1.1)\n",
    "plt.plot(xi, y, marker='o', linestyle='--', color='b')\n",
    "\n",
    "plt.xlabel('Number of Components')\n",
    "plt.xticks(np.arange(0, end_d, step=1))\n",
    "plt.ylabel('Cumulative variance (%)')\n",
    "plt.title('The number of components needed to explain variance')\n",
    "\n",
    "plt.axhline(y=0.95, color='r', linestyle='-')\n",
    "plt.text(0.5, 0.85, '95% cut-off threshold', color = 'red', fontsize=16)\n",
    "\n",
    "ax.grid(axis='x')\n",
    "plt.show()"
   ]
  },
  {
   "cell_type": "code",
   "execution_count": 38,
   "metadata": {},
   "outputs": [],
   "source": [
    "pca, X_train_pca, X_test_pca = transform_features(3) # try with 3 components"
   ]
  },
  {
   "cell_type": "code",
   "execution_count": 39,
   "metadata": {},
   "outputs": [
    {
     "data": {
      "text/html": [
       "<table class=\"simpletable\">\n",
       "<caption>OLS Regression Results</caption>\n",
       "<tr>\n",
       "  <th>Dep. Variable:</th>         <td>Return</td>      <th>  R-squared:         </th> <td>   0.912</td>\n",
       "</tr>\n",
       "<tr>\n",
       "  <th>Model:</th>                   <td>OLS</td>       <th>  Adj. R-squared:    </th> <td>   0.911</td>\n",
       "</tr>\n",
       "<tr>\n",
       "  <th>Method:</th>             <td>Least Squares</td>  <th>  F-statistic:       </th> <td>   547.6</td>\n",
       "</tr>\n",
       "<tr>\n",
       "  <th>Date:</th>             <td>Tue, 20 Oct 2020</td> <th>  Prob (F-statistic):</th> <td>3.14e-83</td>\n",
       "</tr>\n",
       "<tr>\n",
       "  <th>Time:</th>                 <td>18:38:20</td>     <th>  Log-Likelihood:    </th> <td>  191.43</td>\n",
       "</tr>\n",
       "<tr>\n",
       "  <th>No. Observations:</th>      <td>   162</td>      <th>  AIC:               </th> <td>  -374.9</td>\n",
       "</tr>\n",
       "<tr>\n",
       "  <th>Df Residuals:</th>          <td>   158</td>      <th>  BIC:               </th> <td>  -362.5</td>\n",
       "</tr>\n",
       "<tr>\n",
       "  <th>Df Model:</th>              <td>     3</td>      <th>                     </th>     <td> </td>   \n",
       "</tr>\n",
       "<tr>\n",
       "  <th>Covariance Type:</th>      <td>nonrobust</td>    <th>                     </th>     <td> </td>   \n",
       "</tr>\n",
       "</table>\n",
       "<table class=\"simpletable\">\n",
       "<tr>\n",
       "    <td></td>       <th>coef</th>     <th>std err</th>      <th>t</th>      <th>P>|t|</th>  <th>[0.025</th>    <th>0.975]</th>  \n",
       "</tr>\n",
       "<tr>\n",
       "  <th>const</th> <td>    0.9745</td> <td>    0.006</td> <td>  165.013</td> <td> 0.000</td> <td>    0.963</td> <td>    0.986</td>\n",
       "</tr>\n",
       "<tr>\n",
       "  <th>x1</th>    <td>    0.2981</td> <td>    0.008</td> <td>   35.078</td> <td> 0.000</td> <td>    0.281</td> <td>    0.315</td>\n",
       "</tr>\n",
       "<tr>\n",
       "  <th>x2</th>    <td>   -0.2912</td> <td>    0.018</td> <td>  -16.418</td> <td> 0.000</td> <td>   -0.326</td> <td>   -0.256</td>\n",
       "</tr>\n",
       "<tr>\n",
       "  <th>x3</th>    <td>    0.3107</td> <td>    0.026</td> <td>   11.948</td> <td> 0.000</td> <td>    0.259</td> <td>    0.362</td>\n",
       "</tr>\n",
       "</table>\n",
       "<table class=\"simpletable\">\n",
       "<tr>\n",
       "  <th>Omnibus:</th>       <td> 1.283</td> <th>  Durbin-Watson:     </th> <td>   2.031</td>\n",
       "</tr>\n",
       "<tr>\n",
       "  <th>Prob(Omnibus):</th> <td> 0.527</td> <th>  Jarque-Bera (JB):  </th> <td>   1.378</td>\n",
       "</tr>\n",
       "<tr>\n",
       "  <th>Skew:</th>          <td> 0.181</td> <th>  Prob(JB):          </th> <td>   0.502</td>\n",
       "</tr>\n",
       "<tr>\n",
       "  <th>Kurtosis:</th>      <td> 2.729</td> <th>  Cond. No.          </th> <td>    4.40</td>\n",
       "</tr>\n",
       "</table><br/><br/>Notes:<br/>[1] Standard Errors assume that the covariance matrix of the errors is correctly specified."
      ],
      "text/plain": [
       "<class 'statsmodels.iolib.summary.Summary'>\n",
       "\"\"\"\n",
       "                            OLS Regression Results                            \n",
       "==============================================================================\n",
       "Dep. Variable:                 Return   R-squared:                       0.912\n",
       "Model:                            OLS   Adj. R-squared:                  0.911\n",
       "Method:                 Least Squares   F-statistic:                     547.6\n",
       "Date:                Tue, 20 Oct 2020   Prob (F-statistic):           3.14e-83\n",
       "Time:                        18:38:20   Log-Likelihood:                 191.43\n",
       "No. Observations:                 162   AIC:                            -374.9\n",
       "Df Residuals:                     158   BIC:                            -362.5\n",
       "Df Model:                           3                                         \n",
       "Covariance Type:            nonrobust                                         \n",
       "==============================================================================\n",
       "                 coef    std err          t      P>|t|      [0.025      0.975]\n",
       "------------------------------------------------------------------------------\n",
       "const          0.9745      0.006    165.013      0.000       0.963       0.986\n",
       "x1             0.2981      0.008     35.078      0.000       0.281       0.315\n",
       "x2            -0.2912      0.018    -16.418      0.000      -0.326      -0.256\n",
       "x3             0.3107      0.026     11.948      0.000       0.259       0.362\n",
       "==============================================================================\n",
       "Omnibus:                        1.283   Durbin-Watson:                   2.031\n",
       "Prob(Omnibus):                  0.527   Jarque-Bera (JB):                1.378\n",
       "Skew:                           0.181   Prob(JB):                        0.502\n",
       "Kurtosis:                       2.729   Cond. No.                         4.40\n",
       "==============================================================================\n",
       "\n",
       "Notes:\n",
       "[1] Standard Errors assume that the covariance matrix of the errors is correctly specified.\n",
       "\"\"\""
      ]
     },
     "execution_count": 39,
     "metadata": {},
     "output_type": "execute_result"
    }
   ],
   "source": [
    "X_train_sm = sm.add_constant(X_train_pca)\n",
    "model = sm.OLS(y_train, X_train_sm).fit()\n",
    "model.summary()"
   ]
  },
  {
   "cell_type": "code",
   "execution_count": 40,
   "metadata": {},
   "outputs": [],
   "source": [
    "lr = LinearRegression().fit(X_train_pca, y_train)\n",
    "y_pred = lr.predict(X_test_pca)"
   ]
  },
  {
   "cell_type": "code",
   "execution_count": 41,
   "metadata": {},
   "outputs": [
    {
     "name": "stdout",
     "output_type": "stream",
     "text": [
      "Mean squared error: 0.01\n",
      "Coefficient of determination: 0.92\n",
      "Mean cross-validation score: 0.8900\n"
     ]
    }
   ],
   "source": [
    "# The mean squared error\n",
    "print('Mean squared error: %.2f' % mean_squared_error(y_test, y_pred))\n",
    "# The coefficient of determination: 1 is perfect prediction\n",
    "print('Coefficient of determination: %.2f' % r2_score(y_test, y_pred))\n",
    "\n",
    "cv = cross_val_score(LinearRegression(), X_train_pca, y_train, cv=10)\n",
    "print(f\"Mean cross-validation score: {cv.mean():.4f}\")"
   ]
  },
  {
   "cell_type": "code",
   "execution_count": 42,
   "metadata": {},
   "outputs": [],
   "source": [
    "y_pred.tolist()\n",
    "y_pred_list = [i[0] for i in y_pred.tolist()]"
   ]
  },
  {
   "cell_type": "code",
   "execution_count": 43,
   "metadata": {},
   "outputs": [
    {
     "data": {
      "text/plain": [
       "Text(0, 0.5, 'Return')"
      ]
     },
     "execution_count": 43,
     "metadata": {},
     "output_type": "execute_result"
    },
    {
     "data": {
      "image/png": "[encoded data removed]",
      "text/plain": [
       "<Figure size 864x432 with 1 Axes>"
      ]
     },
     "metadata": {},
     "output_type": "display_data"
    }
   ],
   "source": [
    "plt.scatter(list(X_train[\"InvestedYears\"]), list(y_train.Return))\n",
    "plt.title(\"Results on train set\")\n",
    "plt.xlabel(\"Invested Years\")\n",
    "plt.ylabel(\"Return\")"
   ]
  },
  {
   "cell_type": "code",
   "execution_count": 44,
   "metadata": {},
   "outputs": [
    {
     "data": {
      "text/plain": [
       "Text(0, 0.5, 'Return')"
      ]
     },
     "execution_count": 44,
     "metadata": {},
     "output_type": "execute_result"
    },
    {
     "data": {
      "image/png": "[encoded data removed]",
      "text/plain": [
       "<Figure size 864x432 with 1 Axes>"
      ]
     },
     "metadata": {},
     "output_type": "display_data"
    }
   ],
   "source": [
    "plt.scatter(list(X_test[\"InvestedYears\"]), y_pred_list)\n",
    "plt.title(\"Results on test set\")\n",
    "plt.xlabel(\"Invested Years\")\n",
    "plt.ylabel(\"Return\")"
   ]
  },
  {
   "cell_type": "code",
   "execution_count": 45,
   "metadata": {},
   "outputs": [],
   "source": [
    "updated_df = pd.read_csv(\"../data/U.S. Stock Markets 1871-Present.csv\")"
   ]
  },
  {
   "cell_type": "code",
   "execution_count": 46,
   "metadata": {},
   "outputs": [],
   "source": [
    "years = []\n",
    "for idx, row in updated_df.iterrows():\n",
    "    years.append(int(str(row[\"Date\"]).split('.')[0]))"
   ]
  },
  {
   "cell_type": "code",
   "execution_count": 47,
   "metadata": {},
   "outputs": [],
   "source": [
    "updated_df[\"Year\"] = years"
   ]
  },
  {
   "cell_type": "code",
   "execution_count": 48,
   "metadata": {},
   "outputs": [],
   "source": [
    "# we don't have whole year in 2020 so we exclude 2020\n",
    "start_y = 2018\n",
    "end_y = 2020\n",
    "updated_df = updated_df[(updated_df[\"Year\"] >= start_y) & (updated_df[\"Year\"] < end_y)].reset_index(drop=True)\n",
    "\n",
    "updated_df.drop(\"Date\", axis=1, inplace=True)\n",
    "updated_df = updated_df.drop([\"RealTRScaledEarnings\", \"Real Total Return Price\"], axis=1)"
   ]
  },
  {
   "cell_type": "code",
   "execution_count": 49,
   "metadata": {},
   "outputs": [
    {
     "data": {
      "text/html": [
       "<div>\n",
       "<style scoped>\n",
       "    .dataframe tbody tr th:only-of-type {\n",
       "        vertical-align: middle;\n",
       "    }\n",
       "\n",
       "    .dataframe tbody tr th {\n",
       "        vertical-align: top;\n",
       "    }\n",
       "\n",
       "    .dataframe thead th {\n",
       "        text-align: right;\n",
       "    }\n",
       "</style>\n",
       "<table border=\"1\" class=\"dataframe\">\n",
       "  <thead>\n",
       "    <tr style=\"text-align: right;\">\n",
       "      <th></th>\n",
       "      <th>S&amp;PComp</th>\n",
       "      <th>Dividend</th>\n",
       "      <th>Earnings</th>\n",
       "      <th>ConsumerPriceIndexCPI</th>\n",
       "      <th>Long Interest Rate GS10</th>\n",
       "      <th>Real Price</th>\n",
       "      <th>Real Dividend</th>\n",
       "      <th>Real Earnings</th>\n",
       "      <th>Year</th>\n",
       "    </tr>\n",
       "  </thead>\n",
       "  <tbody>\n",
       "    <tr>\n",
       "      <th>0</th>\n",
       "      <td>2789.80</td>\n",
       "      <td>49.29</td>\n",
       "      <td>111.73</td>\n",
       "      <td>247.87</td>\n",
       "      <td>2.58</td>\n",
       "      <td>2923.58</td>\n",
       "      <td>51.65</td>\n",
       "      <td>117.09</td>\n",
       "      <td>2018</td>\n",
       "    </tr>\n",
       "    <tr>\n",
       "      <th>1</th>\n",
       "      <td>2705.16</td>\n",
       "      <td>49.64</td>\n",
       "      <td>113.59</td>\n",
       "      <td>248.99</td>\n",
       "      <td>2.86</td>\n",
       "      <td>2822.08</td>\n",
       "      <td>51.79</td>\n",
       "      <td>118.50</td>\n",
       "      <td>2018</td>\n",
       "    </tr>\n",
       "    <tr>\n",
       "      <th>2</th>\n",
       "      <td>2702.77</td>\n",
       "      <td>50.00</td>\n",
       "      <td>115.44</td>\n",
       "      <td>249.55</td>\n",
       "      <td>2.84</td>\n",
       "      <td>2813.23</td>\n",
       "      <td>52.04</td>\n",
       "      <td>120.16</td>\n",
       "      <td>2018</td>\n",
       "    </tr>\n",
       "    <tr>\n",
       "      <th>3</th>\n",
       "      <td>2653.63</td>\n",
       "      <td>50.33</td>\n",
       "      <td>117.79</td>\n",
       "      <td>250.55</td>\n",
       "      <td>2.87</td>\n",
       "      <td>2751.14</td>\n",
       "      <td>52.18</td>\n",
       "      <td>122.12</td>\n",
       "      <td>2018</td>\n",
       "    </tr>\n",
       "    <tr>\n",
       "      <th>4</th>\n",
       "      <td>2701.49</td>\n",
       "      <td>50.66</td>\n",
       "      <td>120.13</td>\n",
       "      <td>251.59</td>\n",
       "      <td>2.98</td>\n",
       "      <td>2789.16</td>\n",
       "      <td>52.30</td>\n",
       "      <td>124.03</td>\n",
       "      <td>2018</td>\n",
       "    </tr>\n",
       "    <tr>\n",
       "      <th>5</th>\n",
       "      <td>2754.35</td>\n",
       "      <td>50.99</td>\n",
       "      <td>122.48</td>\n",
       "      <td>251.99</td>\n",
       "      <td>2.91</td>\n",
       "      <td>2839.21</td>\n",
       "      <td>52.56</td>\n",
       "      <td>126.25</td>\n",
       "      <td>2018</td>\n",
       "    </tr>\n",
       "    <tr>\n",
       "      <th>6</th>\n",
       "      <td>2793.64</td>\n",
       "      <td>51.44</td>\n",
       "      <td>125.12</td>\n",
       "      <td>252.01</td>\n",
       "      <td>2.89</td>\n",
       "      <td>2879.52</td>\n",
       "      <td>53.02</td>\n",
       "      <td>128.96</td>\n",
       "      <td>2018</td>\n",
       "    </tr>\n",
       "    <tr>\n",
       "      <th>7</th>\n",
       "      <td>2857.82</td>\n",
       "      <td>51.89</td>\n",
       "      <td>127.75</td>\n",
       "      <td>252.15</td>\n",
       "      <td>2.89</td>\n",
       "      <td>2944.04</td>\n",
       "      <td>53.46</td>\n",
       "      <td>131.61</td>\n",
       "      <td>2018</td>\n",
       "    </tr>\n",
       "    <tr>\n",
       "      <th>8</th>\n",
       "      <td>2901.50</td>\n",
       "      <td>52.34</td>\n",
       "      <td>130.39</td>\n",
       "      <td>252.44</td>\n",
       "      <td>3.00</td>\n",
       "      <td>2985.57</td>\n",
       "      <td>53.86</td>\n",
       "      <td>134.17</td>\n",
       "      <td>2018</td>\n",
       "    </tr>\n",
       "    <tr>\n",
       "      <th>9</th>\n",
       "      <td>2785.46</td>\n",
       "      <td>52.81</td>\n",
       "      <td>131.06</td>\n",
       "      <td>252.89</td>\n",
       "      <td>3.15</td>\n",
       "      <td>2861.11</td>\n",
       "      <td>54.24</td>\n",
       "      <td>134.62</td>\n",
       "      <td>2018</td>\n",
       "    </tr>\n",
       "    <tr>\n",
       "      <th>10</th>\n",
       "      <td>2723.23</td>\n",
       "      <td>53.28</td>\n",
       "      <td>131.72</td>\n",
       "      <td>252.04</td>\n",
       "      <td>3.12</td>\n",
       "      <td>2806.59</td>\n",
       "      <td>54.91</td>\n",
       "      <td>135.76</td>\n",
       "      <td>2018</td>\n",
       "    </tr>\n",
       "    <tr>\n",
       "      <th>11</th>\n",
       "      <td>2567.31</td>\n",
       "      <td>53.75</td>\n",
       "      <td>132.39</td>\n",
       "      <td>251.23</td>\n",
       "      <td>2.83</td>\n",
       "      <td>2654.37</td>\n",
       "      <td>55.57</td>\n",
       "      <td>136.88</td>\n",
       "      <td>2018</td>\n",
       "    </tr>\n",
       "    <tr>\n",
       "      <th>12</th>\n",
       "      <td>2607.39</td>\n",
       "      <td>54.15</td>\n",
       "      <td>133.06</td>\n",
       "      <td>251.71</td>\n",
       "      <td>2.71</td>\n",
       "      <td>2690.68</td>\n",
       "      <td>55.88</td>\n",
       "      <td>137.31</td>\n",
       "      <td>2019</td>\n",
       "    </tr>\n",
       "    <tr>\n",
       "      <th>13</th>\n",
       "      <td>2754.86</td>\n",
       "      <td>54.54</td>\n",
       "      <td>133.72</td>\n",
       "      <td>252.78</td>\n",
       "      <td>2.68</td>\n",
       "      <td>2830.90</td>\n",
       "      <td>56.05</td>\n",
       "      <td>137.41</td>\n",
       "      <td>2019</td>\n",
       "    </tr>\n",
       "    <tr>\n",
       "      <th>14</th>\n",
       "      <td>2803.98</td>\n",
       "      <td>54.94</td>\n",
       "      <td>134.39</td>\n",
       "      <td>254.20</td>\n",
       "      <td>2.57</td>\n",
       "      <td>2865.21</td>\n",
       "      <td>56.14</td>\n",
       "      <td>137.32</td>\n",
       "      <td>2019</td>\n",
       "    </tr>\n",
       "    <tr>\n",
       "      <th>15</th>\n",
       "      <td>2903.80</td>\n",
       "      <td>55.32</td>\n",
       "      <td>134.68</td>\n",
       "      <td>255.55</td>\n",
       "      <td>2.53</td>\n",
       "      <td>2951.58</td>\n",
       "      <td>56.23</td>\n",
       "      <td>136.90</td>\n",
       "      <td>2019</td>\n",
       "    </tr>\n",
       "    <tr>\n",
       "      <th>16</th>\n",
       "      <td>2854.71</td>\n",
       "      <td>55.70</td>\n",
       "      <td>134.98</td>\n",
       "      <td>256.09</td>\n",
       "      <td>2.40</td>\n",
       "      <td>2895.52</td>\n",
       "      <td>56.49</td>\n",
       "      <td>136.91</td>\n",
       "      <td>2019</td>\n",
       "    </tr>\n",
       "    <tr>\n",
       "      <th>17</th>\n",
       "      <td>2890.17</td>\n",
       "      <td>56.08</td>\n",
       "      <td>135.27</td>\n",
       "      <td>256.14</td>\n",
       "      <td>2.06</td>\n",
       "      <td>2930.90</td>\n",
       "      <td>56.87</td>\n",
       "      <td>137.18</td>\n",
       "      <td>2019</td>\n",
       "    </tr>\n",
       "    <tr>\n",
       "      <th>18</th>\n",
       "      <td>2996.11</td>\n",
       "      <td>56.46</td>\n",
       "      <td>134.48</td>\n",
       "      <td>256.57</td>\n",
       "      <td>1.63</td>\n",
       "      <td>3033.27</td>\n",
       "      <td>57.16</td>\n",
       "      <td>136.15</td>\n",
       "      <td>2019</td>\n",
       "    </tr>\n",
       "    <tr>\n",
       "      <th>19</th>\n",
       "      <td>2897.50</td>\n",
       "      <td>56.84</td>\n",
       "      <td>133.69</td>\n",
       "      <td>256.56</td>\n",
       "      <td>1.63</td>\n",
       "      <td>2933.58</td>\n",
       "      <td>57.55</td>\n",
       "      <td>135.35</td>\n",
       "      <td>2019</td>\n",
       "    </tr>\n",
       "    <tr>\n",
       "      <th>20</th>\n",
       "      <td>2982.16</td>\n",
       "      <td>57.22</td>\n",
       "      <td>132.90</td>\n",
       "      <td>256.76</td>\n",
       "      <td>1.70</td>\n",
       "      <td>3016.93</td>\n",
       "      <td>57.89</td>\n",
       "      <td>134.45</td>\n",
       "      <td>2019</td>\n",
       "    </tr>\n",
       "    <tr>\n",
       "      <th>21</th>\n",
       "      <td>2977.68</td>\n",
       "      <td>57.56</td>\n",
       "      <td>135.09</td>\n",
       "      <td>257.35</td>\n",
       "      <td>1.71</td>\n",
       "      <td>3005.53</td>\n",
       "      <td>58.10</td>\n",
       "      <td>136.35</td>\n",
       "      <td>2019</td>\n",
       "    </tr>\n",
       "    <tr>\n",
       "      <th>22</th>\n",
       "      <td>3104.90</td>\n",
       "      <td>57.90</td>\n",
       "      <td>137.28</td>\n",
       "      <td>257.21</td>\n",
       "      <td>1.81</td>\n",
       "      <td>3135.63</td>\n",
       "      <td>58.47</td>\n",
       "      <td>138.64</td>\n",
       "      <td>2019</td>\n",
       "    </tr>\n",
       "    <tr>\n",
       "      <th>23</th>\n",
       "      <td>3176.75</td>\n",
       "      <td>58.24</td>\n",
       "      <td>139.47</td>\n",
       "      <td>256.97</td>\n",
       "      <td>1.86</td>\n",
       "      <td>3211.10</td>\n",
       "      <td>58.87</td>\n",
       "      <td>140.98</td>\n",
       "      <td>2019</td>\n",
       "    </tr>\n",
       "  </tbody>\n",
       "</table>\n",
       "</div>"
      ],
      "text/plain": [
       "    S&PComp  Dividend  Earnings  ConsumerPriceIndexCPI  \\\n",
       "0   2789.80     49.29    111.73                 247.87   \n",
       "1   2705.16     49.64    113.59                 248.99   \n",
       "2   2702.77     50.00    115.44                 249.55   \n",
       "3   2653.63     50.33    117.79                 250.55   \n",
       "4   2701.49     50.66    120.13                 251.59   \n",
       "5   2754.35     50.99    122.48                 251.99   \n",
       "6   2793.64     51.44    125.12                 252.01   \n",
       "7   2857.82     51.89    127.75                 252.15   \n",
       "8   2901.50     52.34    130.39                 252.44   \n",
       "9   2785.46     52.81    131.06                 252.89   \n",
       "10  2723.23     53.28    131.72                 252.04   \n",
       "11  2567.31     53.75    132.39                 251.23   \n",
       "12  2607.39     54.15    133.06                 251.71   \n",
       "13  2754.86     54.54    133.72                 252.78   \n",
       "14  2803.98     54.94    134.39                 254.20   \n",
       "15  2903.80     55.32    134.68                 255.55   \n",
       "16  2854.71     55.70    134.98                 256.09   \n",
       "17  2890.17     56.08    135.27                 256.14   \n",
       "18  2996.11     56.46    134.48                 256.57   \n",
       "19  2897.50     56.84    133.69                 256.56   \n",
       "20  2982.16     57.22    132.90                 256.76   \n",
       "21  2977.68     57.56    135.09                 257.35   \n",
       "22  3104.90     57.90    137.28                 257.21   \n",
       "23  3176.75     58.24    139.47                 256.97   \n",
       "\n",
       "    Long Interest Rate GS10  Real Price  Real Dividend  Real Earnings  Year  \n",
       "0                      2.58     2923.58          51.65         117.09  2018  \n",
       "1                      2.86     2822.08          51.79         118.50  2018  \n",
       "2                      2.84     2813.23          52.04         120.16  2018  \n",
       "3                      2.87     2751.14          52.18         122.12  2018  \n",
       "4                      2.98     2789.16          52.30         124.03  2018  \n",
       "5                      2.91     2839.21          52.56         126.25  2018  \n",
       "6                      2.89     2879.52          53.02         128.96  2018  \n",
       "7                      2.89     2944.04          53.46         131.61  2018  \n",
       "8                      3.00     2985.57          53.86         134.17  2018  \n",
       "9                      3.15     2861.11          54.24         134.62  2018  \n",
       "10                     3.12     2806.59          54.91         135.76  2018  \n",
       "11                     2.83     2654.37          55.57         136.88  2018  \n",
       "12                     2.71     2690.68          55.88         137.31  2019  \n",
       "13                     2.68     2830.90          56.05         137.41  2019  \n",
       "14                     2.57     2865.21          56.14         137.32  2019  \n",
       "15                     2.53     2951.58          56.23         136.90  2019  \n",
       "16                     2.40     2895.52          56.49         136.91  2019  \n",
       "17                     2.06     2930.90          56.87         137.18  2019  \n",
       "18                     1.63     3033.27          57.16         136.15  2019  \n",
       "19                     1.63     2933.58          57.55         135.35  2019  \n",
       "20                     1.70     3016.93          57.89         134.45  2019  \n",
       "21                     1.71     3005.53          58.10         136.35  2019  \n",
       "22                     1.81     3135.63          58.47         138.64  2019  \n",
       "23                     1.86     3211.10          58.87         140.98  2019  "
      ]
     },
     "execution_count": 49,
     "metadata": {},
     "output_type": "execute_result"
    }
   ],
   "source": [
    "updated_df"
   ]
  },
  {
   "cell_type": "code",
   "execution_count": 50,
   "metadata": {},
   "outputs": [],
   "source": [
    "previous_real_returns = []\n",
    "previous_real_returns.append(1) # start with investing one dollar at the begining\n",
    "i = 0\n",
    "\n",
    "for y in range(start_y, end_y):\n",
    "    real_return = calculate_real_return(y, y+1, previous_real_returns[i], updated_df) \n",
    "    previous_real_returns.append(real_return)\n",
    "    i += 1"
   ]
  },
  {
   "cell_type": "code",
   "execution_count": 51,
   "metadata": {},
   "outputs": [],
   "source": [
    "return_val = []\n",
    "year = start_y\n",
    "i = 0\n",
    "year_count = []\n",
    "\n",
    "for idx, row in updated_df.iterrows():\n",
    "    if row.Year == year:\n",
    "        return_val.append(previous_real_returns[i])\n",
    "        year_count.append(i)\n",
    "    else:\n",
    "        year += 1\n",
    "        i += 1\n",
    "        return_val.append(previous_real_returns[i])\n",
    "        year_count.append(i)"
   ]
  },
  {
   "cell_type": "code",
   "execution_count": 52,
   "metadata": {},
   "outputs": [],
   "source": [
    "updated_df[\"Return\"] = return_val\n",
    "updated_df[\"InvestedYears\"] = year_count\n",
    "updated_df = updated_df.drop(\"Year\", axis=1)"
   ]
  },
  {
   "cell_type": "code",
   "execution_count": 53,
   "metadata": {},
   "outputs": [],
   "source": [
    "y = updated_df[[\"Return\"]]\n",
    "X = updated_df.drop(\"Return\", axis=1)\n",
    "\n",
    "X_train, X_test, y_train, y_test = train_test_split(X, y, test_size=0.25, random_state=1)"
   ]
  },
  {
   "cell_type": "code",
   "execution_count": 54,
   "metadata": {},
   "outputs": [],
   "source": [
    "pca, X_train_pca, X_test_pca = transform_features(3) # try with 3 components"
   ]
  },
  {
   "cell_type": "code",
   "execution_count": 55,
   "metadata": {},
   "outputs": [],
   "source": [
    "y_pred = lr.predict(X_test_pca)"
   ]
  },
  {
   "cell_type": "code",
   "execution_count": 56,
   "metadata": {},
   "outputs": [
    {
     "name": "stdout",
     "output_type": "stream",
     "text": [
      "Mean squared error: 0.14\n",
      "Coefficient of determination: -177.19\n"
     ]
    }
   ],
   "source": [
    "# The mean squared error\n",
    "print('Mean squared error: %.2f' % mean_squared_error(y_test, y_pred))\n",
    "# The coefficient of determination: 1 is perfect prediction\n",
    "print('Coefficient of determination: %.2f' % r2_score(y_test, y_pred))"
   ]
  }
 ],
 "metadata": {
  "kernelspec": {
   "display_name": "Python 3",
   "language": "python",
   "name": "python3"
  },
  "language_info": {
   "codemirror_mode": {
    "name": "ipython",
    "version": 3
   },
   "file_extension": ".py",
   "mimetype": "text/x-python",
   "name": "python",
   "nbconvert_exporter": "python",
   "pygments_lexer": "ipython3",
   "version": "3.8.3"
  }
 },
 "nbformat": 4,
 "nbformat_minor": 4
}
