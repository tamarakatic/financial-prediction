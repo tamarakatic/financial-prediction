{
 "cells": [
  {
   "cell_type": "code",
   "execution_count": 1,
   "metadata": {},
   "outputs": [],
   "source": [
    "import pandas as pd\n",
    "import matplotlib.pyplot as plt\n",
    "import seaborn as sns\n",
    "import numpy as np\n",
    "import math\n",
    "\n",
    "from statsmodels.stats.outliers_influence import variance_inflation_factor\n",
    "\n",
    "from sklearn.model_selection import train_test_split\n",
    "from sklearn.metrics import mean_squared_error, r2_score\n",
    "from sklearn.model_selection import cross_val_score\n",
    "from sklearn.linear_model import LinearRegression\n",
    "from sklearn.decomposition import PCA\n",
    "from sklearn.preprocessing import MinMaxScaler\n",
    "\n",
    "%matplotlib inline\n",
    "sns.set()"
   ]
  },
  {
   "cell_type": "code",
   "execution_count": 2,
   "metadata": {},
   "outputs": [],
   "source": [
    "df = pd.read_csv(\"../data/data_csv.csv\")"
   ]
  },
  {
   "cell_type": "code",
   "execution_count": 3,
   "metadata": {},
   "outputs": [],
   "source": [
    "df[\"Year\"] = pd.DatetimeIndex(df['Date']).year "
   ]
  },
  {
   "cell_type": "code",
   "execution_count": 4,
   "metadata": {},
   "outputs": [
    {
     "name": "stdout",
     "output_type": "stream",
     "text": [
      "               features  vif_Factor\n",
      "0                 SP500  381.962424\n",
      "1              Dividend  288.972458\n",
      "2              Earnings  144.001576\n",
      "3  Consumer Price Index   40.233282\n",
      "4    Long Interest Rate   11.172129\n",
      "5            Real Price  386.726001\n",
      "6         Real Dividend  293.661481\n",
      "7         Real Earnings  163.017104\n",
      "8                  PE10   48.355051\n",
      "9                  Year   68.838492\n",
      "\n",
      "If VIF value is higher than 10, it is usually considered having high correlation with other independent variables.\n"
     ]
    }
   ],
   "source": [
    "vif = pd.DataFrame()\n",
    "df_vif = df.drop(\"Date\", axis=1)\n",
    "vif[\"features\"] = df_vif.columns\n",
    "vif[\"vif_Factor\"] = [variance_inflation_factor(df_vif.values, i) for i in range(df_vif.shape[1])]\n",
    "\n",
    "print(vif)\n",
    "print(\"\\nIf VIF value is higher than 10, it is usually considered having high correlation with other independent variables.\")"
   ]
  },
  {
   "cell_type": "markdown",
   "metadata": {},
   "source": [
    "\"Variance inflation factor (VIF) is a measure of the amount of multicollinearity in a set of multiple regression variables. Mathematically, the VIF for a regression model variable is equal to the ratio of the overall model variance to the variance of a model that includes only that single independent variable. This ratio is calculated for each independent variable. A high VIF indicates that the associated independent variable is highly collinear with the other variables in the model.\""
   ]
  },
  {
   "cell_type": "code",
   "execution_count": 5,
   "metadata": {},
   "outputs": [
    {
     "data": {
      "text/plain": [
       "(array([904., 302., 167.,  27.,  45.,  87.,  42.,  44.,  18.,   8.]),\n",
       " array([  87.63,  348.88,  610.13,  871.38, 1132.63, 1393.88, 1655.13,\n",
       "        1916.38, 2177.63, 2438.88, 2700.13]),\n",
       " <a list of 10 Patch objects>)"
      ]
     },
     "execution_count": 5,
     "metadata": {},
     "output_type": "execute_result"
    },
    {
     "data": {
      "image/png": "[encoded data removed]",
      "text/plain": [
       "<Figure size 432x288 with 1 Axes>"
      ]
     },
     "metadata": {},
     "output_type": "display_data"
    }
   ],
   "source": [
    "plt.hist(df[\"Real Price\"])"
   ]
  },
  {
   "cell_type": "code",
   "execution_count": 6,
   "metadata": {},
   "outputs": [
    {
     "data": {
      "text/plain": [
       "(array([565., 320., 319., 231.,  89.,  39.,  29.,  14.,  12.,  26.]),\n",
       " array([ 6.22 , 10.557, 14.894, 19.231, 23.568, 27.905, 32.242, 36.579,\n",
       "        40.916, 45.253, 49.59 ]),\n",
       " <a list of 10 Patch objects>)"
      ]
     },
     "execution_count": 6,
     "metadata": {},
     "output_type": "execute_result"
    },
    {
     "data": {
      "image/png": "[encoded data removed]",
      "text/plain": [
       "<Figure size 432x288 with 1 Axes>"
      ]
     },
     "metadata": {},
     "output_type": "display_data"
    }
   ],
   "source": [
    "plt.hist(df[\"Real Dividend\"])"
   ]
  },
  {
   "cell_type": "code",
   "execution_count": 7,
   "metadata": {},
   "outputs": [
    {
     "data": {
      "text/plain": [
       "(array([ 48., 313., 366., 172., 201., 176., 104.,  59., 135.,  70.]),\n",
       " array([4.47312341, 4.81591658, 5.15870976, 5.50150294, 5.84429612,\n",
       "        6.1870893 , 6.52988248, 6.87267566, 7.21546884, 7.55826202,\n",
       "        7.9010552 ]),\n",
       " <a list of 10 Patch objects>)"
      ]
     },
     "execution_count": 7,
     "metadata": {},
     "output_type": "execute_result"
    },
    {
     "data": {
      "image/png": "[encoded data removed]",
      "text/plain": [
       "<Figure size 432x288 with 1 Axes>"
      ]
     },
     "metadata": {},
     "output_type": "display_data"
    }
   ],
   "source": [
    "from scipy.stats import boxcox\n",
    "\n",
    "data = boxcox(df[\"Real Price\"], 0)\n",
    "plt.hist(data)"
   ]
  },
  {
   "cell_type": "markdown",
   "metadata": {},
   "source": [
    "### To calculate real returns we use the formula:\n",
    "return[t] = return[t-1] * (((Real Price[t] - Real Price[t-1]) / Real Price[t-1])) + 1) + (Real Dividend[t-1]/RealPrice[t-1])"
   ]
  },
  {
   "cell_type": "code",
   "execution_count": 8,
   "metadata": {},
   "outputs": [],
   "source": [
    "def calculate_real_return(start_year, end_year, previous_return, df_s):\n",
    "    df_new_s = df_s[(df_s[\"Year\"] >= start_year) & (df_s[\"Year\"] < end_year)].reset_index(drop=True)\n",
    "    \n",
    "    diff_price = ((df_new_s[\"Real Price\"].values[-1] - df_new_s[\"Real Price\"].values[0]) / (df_new_s[\"Real Price\"].values[0])) + 1\n",
    "    cum_return = previous_return * diff_price\n",
    "    reinvested_dividens = cum_return + (df_new_s[\"Real Dividend\"].values[0] / df_new_s[\"Real Price\"].values[0])\n",
    "\n",
    "    return reinvested_dividens"
   ]
  },
  {
   "cell_type": "code",
   "execution_count": 9,
   "metadata": {},
   "outputs": [],
   "source": [
    "start_y = 1950\n",
    "end_y = 2018\n",
    "\n",
    "previous_real_returns = []\n",
    "previous_real_returns.append(1) # start with investing one dollar at the begining\n",
    "i = 0\n",
    "\n",
    "for y in range(start_y, end_y):\n",
    "    real_return = calculate_real_return(y, y+1, previous_real_returns[i], df) \n",
    "    previous_real_returns.append(real_return)\n",
    "    i += 1"
   ]
  },
  {
   "cell_type": "code",
   "execution_count": 10,
   "metadata": {},
   "outputs": [
    {
     "data": {
      "text/plain": [
       "69"
      ]
     },
     "execution_count": 10,
     "metadata": {},
     "output_type": "execute_result"
    }
   ],
   "source": [
    "len(previous_real_returns)"
   ]
  },
  {
   "cell_type": "code",
   "execution_count": 11,
   "metadata": {},
   "outputs": [],
   "source": [
    "return_val = []\n",
    "year = start_y\n",
    "i = 0\n",
    "year_count = []\n",
    "\n",
    "df_new = df[df.Year>=start_y].reset_index(drop=True)\n",
    "\n",
    "for idx, row in df_new.iterrows():\n",
    "    if row.Year == year:\n",
    "        return_val.append(previous_real_returns[i])\n",
    "        year_count.append(i)\n",
    "    else:\n",
    "        year += 1\n",
    "        i += 1\n",
    "        return_val.append(previous_real_returns[i])\n",
    "        year_count.append(i)"
   ]
  },
  {
   "cell_type": "code",
   "execution_count": 12,
   "metadata": {},
   "outputs": [],
   "source": [
    "df_new = df_new.drop(\"Date\", axis=1)\n",
    "df_new[\"Return\"] = return_val\n",
    "df_new[\"InvestedYears\"] = year_count\n",
    "df_new = df_new.drop(\"Year\", axis=1)"
   ]
  },
  {
   "cell_type": "code",
   "execution_count": 13,
   "metadata": {},
   "outputs": [
    {
     "data": {
      "text/html": [
       "<div>\n",
       "<style scoped>\n",
       "    .dataframe tbody tr th:only-of-type {\n",
       "        vertical-align: middle;\n",
       "    }\n",
       "\n",
       "    .dataframe tbody tr th {\n",
       "        vertical-align: top;\n",
       "    }\n",
       "\n",
       "    .dataframe thead th {\n",
       "        text-align: right;\n",
       "    }\n",
       "</style>\n",
       "<table border=\"1\" class=\"dataframe\">\n",
       "  <thead>\n",
       "    <tr style=\"text-align: right;\">\n",
       "      <th></th>\n",
       "      <th>SP500</th>\n",
       "      <th>Dividend</th>\n",
       "      <th>Earnings</th>\n",
       "      <th>Consumer Price Index</th>\n",
       "      <th>Long Interest Rate</th>\n",
       "      <th>Real Price</th>\n",
       "      <th>Real Dividend</th>\n",
       "      <th>Real Earnings</th>\n",
       "      <th>PE10</th>\n",
       "      <th>Return</th>\n",
       "      <th>InvestedYears</th>\n",
       "    </tr>\n",
       "  </thead>\n",
       "  <tbody>\n",
       "    <tr>\n",
       "      <th>0</th>\n",
       "      <td>16.88</td>\n",
       "      <td>1.15</td>\n",
       "      <td>2.34</td>\n",
       "      <td>23.5</td>\n",
       "      <td>2.32</td>\n",
       "      <td>179.46</td>\n",
       "      <td>12.23</td>\n",
       "      <td>24.84</td>\n",
       "      <td>10.75</td>\n",
       "      <td>1.0</td>\n",
       "      <td>0</td>\n",
       "    </tr>\n",
       "    <tr>\n",
       "      <th>1</th>\n",
       "      <td>17.21</td>\n",
       "      <td>1.16</td>\n",
       "      <td>2.35</td>\n",
       "      <td>23.5</td>\n",
       "      <td>2.34</td>\n",
       "      <td>182.96</td>\n",
       "      <td>12.33</td>\n",
       "      <td>25.02</td>\n",
       "      <td>10.91</td>\n",
       "      <td>1.0</td>\n",
       "      <td>0</td>\n",
       "    </tr>\n",
       "    <tr>\n",
       "      <th>2</th>\n",
       "      <td>17.35</td>\n",
       "      <td>1.17</td>\n",
       "      <td>2.37</td>\n",
       "      <td>23.6</td>\n",
       "      <td>2.36</td>\n",
       "      <td>183.67</td>\n",
       "      <td>12.39</td>\n",
       "      <td>25.09</td>\n",
       "      <td>10.91</td>\n",
       "      <td>1.0</td>\n",
       "      <td>0</td>\n",
       "    </tr>\n",
       "    <tr>\n",
       "      <th>3</th>\n",
       "      <td>17.84</td>\n",
       "      <td>1.18</td>\n",
       "      <td>2.43</td>\n",
       "      <td>23.6</td>\n",
       "      <td>2.38</td>\n",
       "      <td>188.86</td>\n",
       "      <td>12.49</td>\n",
       "      <td>25.69</td>\n",
       "      <td>11.18</td>\n",
       "      <td>1.0</td>\n",
       "      <td>0</td>\n",
       "    </tr>\n",
       "    <tr>\n",
       "      <th>4</th>\n",
       "      <td>18.44</td>\n",
       "      <td>1.19</td>\n",
       "      <td>2.48</td>\n",
       "      <td>23.7</td>\n",
       "      <td>2.40</td>\n",
       "      <td>194.39</td>\n",
       "      <td>12.54</td>\n",
       "      <td>26.18</td>\n",
       "      <td>11.46</td>\n",
       "      <td>1.0</td>\n",
       "      <td>0</td>\n",
       "    </tr>\n",
       "  </tbody>\n",
       "</table>\n",
       "</div>"
      ],
      "text/plain": [
       "   SP500  Dividend  Earnings  Consumer Price Index  Long Interest Rate  \\\n",
       "0  16.88      1.15      2.34                  23.5                2.32   \n",
       "1  17.21      1.16      2.35                  23.5                2.34   \n",
       "2  17.35      1.17      2.37                  23.6                2.36   \n",
       "3  17.84      1.18      2.43                  23.6                2.38   \n",
       "4  18.44      1.19      2.48                  23.7                2.40   \n",
       "\n",
       "   Real Price  Real Dividend  Real Earnings   PE10  Return  InvestedYears  \n",
       "0      179.46          12.23          24.84  10.75     1.0              0  \n",
       "1      182.96          12.33          25.02  10.91     1.0              0  \n",
       "2      183.67          12.39          25.09  10.91     1.0              0  \n",
       "3      188.86          12.49          25.69  11.18     1.0              0  \n",
       "4      194.39          12.54          26.18  11.46     1.0              0  "
      ]
     },
     "execution_count": 13,
     "metadata": {},
     "output_type": "execute_result"
    }
   ],
   "source": [
    "df_new.head()"
   ]
  },
  {
   "cell_type": "code",
   "execution_count": 14,
   "metadata": {},
   "outputs": [
    {
     "data": {
      "image/png": "[encoded data removed]",
      "text/plain": [
       "<Figure size 576x576 with 2 Axes>"
      ]
     },
     "metadata": {},
     "output_type": "display_data"
    },
    {
     "name": "stdout",
     "output_type": "stream",
     "text": [
      "select those independent variables with high correlation with dependent variable\n"
     ]
    }
   ],
   "source": [
    "plt.figure(figsize=(8, 8))\n",
    "sns.heatmap(df_new.corr(), annot=True, cmap=plt.cm.Blues)\n",
    "plt.show()\n",
    "\n",
    "print(\"select those independent variables with high correlation with dependent variable\")"
   ]
  },
  {
   "cell_type": "code",
   "execution_count": 15,
   "metadata": {},
   "outputs": [
    {
     "data": {
      "text/plain": [
       "<matplotlib.collections.PathCollection at 0x7f7f98e85fa0>"
      ]
     },
     "execution_count": 15,
     "metadata": {},
     "output_type": "execute_result"
    },
    {
     "data": {
      "image/png": "[encoded data removed]",
      "text/plain": [
       "<Figure size 432x288 with 1 Axes>"
      ]
     },
     "metadata": {},
     "output_type": "display_data"
    }
   ],
   "source": [
    "plt.scatter(df_new[\"Real Price\"], df_new[\"Return\"])"
   ]
  },
  {
   "cell_type": "code",
   "execution_count": 16,
   "metadata": {},
   "outputs": [
    {
     "data": {
      "text/plain": [
       "<matplotlib.collections.PathCollection at 0x7f7f98521c70>"
      ]
     },
     "execution_count": 16,
     "metadata": {},
     "output_type": "execute_result"
    },
    {
     "data": {
      "image/png": "[encoded data removed]",
      "text/plain": [
       "<Figure size 432x288 with 1 Axes>"
      ]
     },
     "metadata": {},
     "output_type": "display_data"
    }
   ],
   "source": [
    "plt.scatter(df_new[\"SP500\"], df_new[\"Return\"])"
   ]
  },
  {
   "cell_type": "code",
   "execution_count": 17,
   "metadata": {},
   "outputs": [
    {
     "data": {
      "text/plain": [
       "<matplotlib.collections.PathCollection at 0x7f7f9b32eac0>"
      ]
     },
     "execution_count": 17,
     "metadata": {},
     "output_type": "execute_result"
    },
    {
     "data": {
      "image/png": "[encoded data removed]",
      "text/plain": [
       "<Figure size 432x288 with 1 Axes>"
      ]
     },
     "metadata": {},
     "output_type": "display_data"
    }
   ],
   "source": [
    "plt.scatter(df_new[\"InvestedYears\"], df_new[\"Return\"])"
   ]
  },
  {
   "cell_type": "code",
   "execution_count": 18,
   "metadata": {},
   "outputs": [
    {
     "name": "stdout",
     "output_type": "stream",
     "text": [
      "     features  vif_Factor\n",
      "0       SP500   10.582163\n",
      "1  Real Price   10.582163\n",
      "\n",
      "If VIF value is higher than 10, it is usually considered having high correlation with other independent variables.\n"
     ]
    }
   ],
   "source": [
    "vif = pd.DataFrame()\n",
    "df_vif = df_new[[\"SP500\", \"Real Price\"]]\n",
    "vif[\"features\"] = df_vif.columns\n",
    "vif[\"vif_Factor\"] = [variance_inflation_factor(df_vif.values, i) for i in range(df_vif.shape[1])]\n",
    "\n",
    "print(vif)\n",
    "print(\"\\nIf VIF value is higher than 10, it is usually considered having high correlation with other independent variables.\")"
   ]
  },
  {
   "cell_type": "code",
   "execution_count": 19,
   "metadata": {},
   "outputs": [],
   "source": [
    "X = df_new[[\"SP500\", \"InvestedYears\", \"Real Price\"]]\n",
    "y = df_new[[\"Return\"]]"
   ]
  },
  {
   "cell_type": "code",
   "execution_count": 20,
   "metadata": {},
   "outputs": [],
   "source": [
    "X_train, X_test, y_train, y_test = train_test_split(X, y, test_size=0.25, random_state=1)"
   ]
  },
  {
   "cell_type": "code",
   "execution_count": 21,
   "metadata": {},
   "outputs": [
    {
     "data": {
      "text/html": [
       "<table class=\"simpletable\">\n",
       "<caption>OLS Regression Results</caption>\n",
       "<tr>\n",
       "  <th>Dep. Variable:</th>         <td>Return</td>      <th>  R-squared:         </th> <td>   0.970</td>\n",
       "</tr>\n",
       "<tr>\n",
       "  <th>Model:</th>                   <td>OLS</td>       <th>  Adj. R-squared:    </th> <td>   0.970</td>\n",
       "</tr>\n",
       "<tr>\n",
       "  <th>Method:</th>             <td>Least Squares</td>  <th>  F-statistic:       </th> <td>   6628.</td>\n",
       "</tr>\n",
       "<tr>\n",
       "  <th>Date:</th>             <td>Tue, 20 Oct 2020</td> <th>  Prob (F-statistic):</th>  <td>  0.00</td> \n",
       "</tr>\n",
       "<tr>\n",
       "  <th>Time:</th>                 <td>18:38:16</td>     <th>  Log-Likelihood:    </th> <td> -544.38</td>\n",
       "</tr>\n",
       "<tr>\n",
       "  <th>No. Observations:</th>      <td>   612</td>      <th>  AIC:               </th> <td>   1097.</td>\n",
       "</tr>\n",
       "<tr>\n",
       "  <th>Df Residuals:</th>          <td>   608</td>      <th>  BIC:               </th> <td>   1114.</td>\n",
       "</tr>\n",
       "<tr>\n",
       "  <th>Df Model:</th>              <td>     3</td>      <th>                     </th>     <td> </td>   \n",
       "</tr>\n",
       "<tr>\n",
       "  <th>Covariance Type:</th>      <td>nonrobust</td>    <th>                     </th>     <td> </td>   \n",
       "</tr>\n",
       "</table>\n",
       "<table class=\"simpletable\">\n",
       "<tr>\n",
       "        <td></td>           <th>coef</th>     <th>std err</th>      <th>t</th>      <th>P>|t|</th>  <th>[0.025</th>    <th>0.975]</th>  \n",
       "</tr>\n",
       "<tr>\n",
       "  <th>const</th>         <td>    0.0838</td> <td>    0.091</td> <td>    0.918</td> <td> 0.359</td> <td>   -0.095</td> <td>    0.263</td>\n",
       "</tr>\n",
       "<tr>\n",
       "  <th>SP500</th>         <td>   -0.0003</td> <td>    0.000</td> <td>   -1.464</td> <td> 0.144</td> <td>   -0.001</td> <td> 8.98e-05</td>\n",
       "</tr>\n",
       "<tr>\n",
       "  <th>InvestedYears</th> <td>    0.0109</td> <td>    0.002</td> <td>    4.403</td> <td> 0.000</td> <td>    0.006</td> <td>    0.016</td>\n",
       "</tr>\n",
       "<tr>\n",
       "  <th>Real Price</th>    <td>    0.0057</td> <td>    0.000</td> <td>   33.498</td> <td> 0.000</td> <td>    0.005</td> <td>    0.006</td>\n",
       "</tr>\n",
       "</table>\n",
       "<table class=\"simpletable\">\n",
       "<tr>\n",
       "  <th>Omnibus:</th>       <td>262.226</td> <th>  Durbin-Watson:     </th> <td>   2.070</td>\n",
       "</tr>\n",
       "<tr>\n",
       "  <th>Prob(Omnibus):</th> <td> 0.000</td>  <th>  Jarque-Bera (JB):  </th> <td>2334.251</td>\n",
       "</tr>\n",
       "<tr>\n",
       "  <th>Skew:</th>          <td> 1.664</td>  <th>  Prob(JB):          </th> <td>    0.00</td>\n",
       "</tr>\n",
       "<tr>\n",
       "  <th>Kurtosis:</th>      <td>11.970</td>  <th>  Cond. No.          </th> <td>5.08e+03</td>\n",
       "</tr>\n",
       "</table><br/><br/>Notes:<br/>[1] Standard Errors assume that the covariance matrix of the errors is correctly specified.<br/>[2] The condition number is large, 5.08e+03. This might indicate that there are<br/>strong multicollinearity or other numerical problems."
      ],
      "text/plain": [
       "<class 'statsmodels.iolib.summary.Summary'>\n",
       "\"\"\"\n",
       "                            OLS Regression Results                            \n",
       "==============================================================================\n",
       "Dep. Variable:                 Return   R-squared:                       0.970\n",
       "Model:                            OLS   Adj. R-squared:                  0.970\n",
       "Method:                 Least Squares   F-statistic:                     6628.\n",
       "Date:                Tue, 20 Oct 2020   Prob (F-statistic):               0.00\n",
       "Time:                        18:38:16   Log-Likelihood:                -544.38\n",
       "No. Observations:                 612   AIC:                             1097.\n",
       "Df Residuals:                     608   BIC:                             1114.\n",
       "Df Model:                           3                                         \n",
       "Covariance Type:            nonrobust                                         \n",
       "=================================================================================\n",
       "                    coef    std err          t      P>|t|      [0.025      0.975]\n",
       "---------------------------------------------------------------------------------\n",
       "const             0.0838      0.091      0.918      0.359      -0.095       0.263\n",
       "SP500            -0.0003      0.000     -1.464      0.144      -0.001    8.98e-05\n",
       "InvestedYears     0.0109      0.002      4.403      0.000       0.006       0.016\n",
       "Real Price        0.0057      0.000     33.498      0.000       0.005       0.006\n",
       "==============================================================================\n",
       "Omnibus:                      262.226   Durbin-Watson:                   2.070\n",
       "Prob(Omnibus):                  0.000   Jarque-Bera (JB):             2334.251\n",
       "Skew:                           1.664   Prob(JB):                         0.00\n",
       "Kurtosis:                      11.970   Cond. No.                     5.08e+03\n",
       "==============================================================================\n",
       "\n",
       "Notes:\n",
       "[1] Standard Errors assume that the covariance matrix of the errors is correctly specified.\n",
       "[2] The condition number is large, 5.08e+03. This might indicate that there are\n",
       "strong multicollinearity or other numerical problems.\n",
       "\"\"\""
      ]
     },
     "execution_count": 21,
     "metadata": {},
     "output_type": "execute_result"
    }
   ],
   "source": [
    "import statsmodels.api as sm\n",
    "\n",
    "X_train_sm = sm.add_constant(X_train)\n",
    "model = sm.OLS(y_train, X_train_sm).fit()\n",
    "model.summary()"
   ]
  },
  {
   "cell_type": "code",
   "execution_count": 22,
   "metadata": {},
   "outputs": [
    {
     "name": "stdout",
     "output_type": "stream",
     "text": [
      "const             3.588462e-01\n",
      "SP500             1.436013e-01\n",
      "InvestedYears     1.260551e-05\n",
      "Real Price       3.446177e-140\n",
      "dtype: float64\n"
     ]
    }
   ],
   "source": [
    "print(model.pvalues)"
   ]
  },
  {
   "cell_type": "code",
   "execution_count": 23,
   "metadata": {},
   "outputs": [],
   "source": [
    "lr = LinearRegression().fit(X_train, y_train)"
   ]
  },
  {
   "cell_type": "code",
   "execution_count": 24,
   "metadata": {},
   "outputs": [],
   "source": [
    "def get_cv_scores(model):\n",
    "    scores = cross_val_score(model, X_train, y_train, cv=10, scoring='r2')\n",
    "    \n",
    "    print('CV Mean: ', np.mean(scores))\n",
    "    print('STD: ', np.std(scores))\n",
    "    print('\\n')"
   ]
  },
  {
   "cell_type": "code",
   "execution_count": 25,
   "metadata": {},
   "outputs": [
    {
     "name": "stdout",
     "output_type": "stream",
     "text": [
      "CV Mean:  0.9689730071470726\n",
      "STD:  0.013411020074040375\n",
      "\n",
      "\n"
     ]
    }
   ],
   "source": [
    "get_cv_scores(lr)"
   ]
  },
  {
   "cell_type": "code",
   "execution_count": 26,
   "metadata": {},
   "outputs": [],
   "source": [
    "y_pred = lr.predict(X_test)"
   ]
  },
  {
   "cell_type": "code",
   "execution_count": 27,
   "metadata": {},
   "outputs": [
    {
     "name": "stdout",
     "output_type": "stream",
     "text": [
      "Mean squared error: 0.28\n",
      "Coefficient of determination: 0.98\n"
     ]
    }
   ],
   "source": [
    "# The mean squared error\n",
    "print('Mean squared error: %.2f'\n",
    "      % mean_squared_error(y_test, y_pred))\n",
    "# The coefficient of determination: 1 is perfect prediction\n",
    "print('Coefficient of determination: %.2f'\n",
    "      % r2_score(y_test, y_pred))"
   ]
  },
  {
   "cell_type": "markdown",
   "metadata": {},
   "source": [
    "## Using PCA to transform features"
   ]
  },
  {
   "cell_type": "code",
   "execution_count": 28,
   "metadata": {},
   "outputs": [],
   "source": [
    "y = df_new[[\"Return\"]]\n",
    "X = df_new.drop(\"Return\", axis=1)"
   ]
  },
  {
   "cell_type": "code",
   "execution_count": 29,
   "metadata": {},
   "outputs": [],
   "source": [
    "X_train, X_test, y_train, y_test = train_test_split(X, y, test_size=0.25, random_state=1)"
   ]
  },
  {
   "cell_type": "code",
   "execution_count": 30,
   "metadata": {},
   "outputs": [],
   "source": [
    "def transform_features(num_components):\n",
    "    scaler = MinMaxScaler()\n",
    "    X_train_minmax = scaler.fit_transform(X_train)\n",
    "    X_test_minmax = scaler.transform(X_test)\n",
    "    \n",
    "    pca = PCA(n_components=num_components)\n",
    "    X_train_pca = pca.fit_transform(X_train_minmax)\n",
    "    X_test_pca = pca.transform(X_test_minmax)\n",
    "    return pca, X_train_pca, X_test_pca"
   ]
  },
  {
   "cell_type": "code",
   "execution_count": 31,
   "metadata": {},
   "outputs": [],
   "source": [
    "pca, X_train_pca, X_test_pca = transform_features(0.99)"
   ]
  },
  {
   "cell_type": "code",
   "execution_count": 32,
   "metadata": {},
   "outputs": [],
   "source": [
    "lr = LinearRegression().fit(X_train_pca, y_train)"
   ]
  },
  {
   "cell_type": "code",
   "execution_count": 33,
   "metadata": {},
   "outputs": [],
   "source": [
    "y_pred = lr.predict(X_test_pca)"
   ]
  },
  {
   "cell_type": "code",
   "execution_count": 34,
   "metadata": {},
   "outputs": [
    {
     "name": "stdout",
     "output_type": "stream",
     "text": [
      "Mean squared error: 0.42\n",
      "Coefficient of determination: 0.96\n"
     ]
    }
   ],
   "source": [
    "# The mean squared error\n",
    "print('Mean squared error: %.2f' % mean_squared_error(y_test, y_pred))\n",
    "# The coefficient of determination: 1 is perfect prediction\n",
    "print('Coefficient of determination: %.2f' % r2_score(y_test, y_pred))"
   ]
  },
  {
   "cell_type": "code",
   "execution_count": 35,
   "metadata": {},
   "outputs": [
    {
     "data": {
      "text/html": [
       "<table class=\"simpletable\">\n",
       "<caption>OLS Regression Results</caption>\n",
       "<tr>\n",
       "  <th>Dep. Variable:</th>         <td>Return</td>      <th>  R-squared:         </th> <td>   0.963</td>\n",
       "</tr>\n",
       "<tr>\n",
       "  <th>Model:</th>                   <td>OLS</td>       <th>  Adj. R-squared:    </th> <td>   0.963</td>\n",
       "</tr>\n",
       "<tr>\n",
       "  <th>Method:</th>             <td>Least Squares</td>  <th>  F-statistic:       </th> <td>   3188.</td>\n",
       "</tr>\n",
       "<tr>\n",
       "  <th>Date:</th>             <td>Tue, 20 Oct 2020</td> <th>  Prob (F-statistic):</th>  <td>  0.00</td> \n",
       "</tr>\n",
       "<tr>\n",
       "  <th>Time:</th>                 <td>18:38:16</td>     <th>  Log-Likelihood:    </th> <td> -608.88</td>\n",
       "</tr>\n",
       "<tr>\n",
       "  <th>No. Observations:</th>      <td>   612</td>      <th>  AIC:               </th> <td>   1230.</td>\n",
       "</tr>\n",
       "<tr>\n",
       "  <th>Df Residuals:</th>          <td>   606</td>      <th>  BIC:               </th> <td>   1256.</td>\n",
       "</tr>\n",
       "<tr>\n",
       "  <th>Df Model:</th>              <td>     5</td>      <th>                     </th>     <td> </td>   \n",
       "</tr>\n",
       "<tr>\n",
       "  <th>Covariance Type:</th>      <td>nonrobust</td>    <th>                     </th>     <td> </td>   \n",
       "</tr>\n",
       "</table>\n",
       "<table class=\"simpletable\">\n",
       "<tr>\n",
       "    <td></td>       <th>coef</th>     <th>std err</th>      <th>t</th>      <th>P>|t|</th>  <th>[0.025</th>    <th>0.975]</th>  \n",
       "</tr>\n",
       "<tr>\n",
       "  <th>const</th> <td>    5.2715</td> <td>    0.027</td> <td>  198.304</td> <td> 0.000</td> <td>    5.219</td> <td>    5.324</td>\n",
       "</tr>\n",
       "<tr>\n",
       "  <th>x1</th>    <td>    4.4861</td> <td>    0.037</td> <td>  120.649</td> <td> 0.000</td> <td>    4.413</td> <td>    4.559</td>\n",
       "</tr>\n",
       "<tr>\n",
       "  <th>x2</th>    <td>   -2.6223</td> <td>    0.110</td> <td>  -23.919</td> <td> 0.000</td> <td>   -2.838</td> <td>   -2.407</td>\n",
       "</tr>\n",
       "<tr>\n",
       "  <th>x3</th>    <td>    4.2507</td> <td>    0.167</td> <td>   25.465</td> <td> 0.000</td> <td>    3.923</td> <td>    4.579</td>\n",
       "</tr>\n",
       "<tr>\n",
       "  <th>x4</th>    <td>   -0.6643</td> <td>    0.204</td> <td>   -3.260</td> <td> 0.001</td> <td>   -1.064</td> <td>   -0.264</td>\n",
       "</tr>\n",
       "<tr>\n",
       "  <th>x5</th>    <td>    3.3523</td> <td>    0.273</td> <td>   12.267</td> <td> 0.000</td> <td>    2.816</td> <td>    3.889</td>\n",
       "</tr>\n",
       "</table>\n",
       "<table class=\"simpletable\">\n",
       "<tr>\n",
       "  <th>Omnibus:</th>       <td>95.331</td> <th>  Durbin-Watson:     </th> <td>   1.938</td>\n",
       "</tr>\n",
       "<tr>\n",
       "  <th>Prob(Omnibus):</th> <td> 0.000</td> <th>  Jarque-Bera (JB):  </th> <td> 246.005</td>\n",
       "</tr>\n",
       "<tr>\n",
       "  <th>Skew:</th>          <td> 0.796</td> <th>  Prob(JB):          </th> <td>3.81e-54</td>\n",
       "</tr>\n",
       "<tr>\n",
       "  <th>Kurtosis:</th>      <td> 5.667</td> <th>  Cond. No.          </th> <td>    10.3</td>\n",
       "</tr>\n",
       "</table><br/><br/>Notes:<br/>[1] Standard Errors assume that the covariance matrix of the errors is correctly specified."
      ],
      "text/plain": [
       "<class 'statsmodels.iolib.summary.Summary'>\n",
       "\"\"\"\n",
       "                            OLS Regression Results                            \n",
       "==============================================================================\n",
       "Dep. Variable:                 Return   R-squared:                       0.963\n",
       "Model:                            OLS   Adj. R-squared:                  0.963\n",
       "Method:                 Least Squares   F-statistic:                     3188.\n",
       "Date:                Tue, 20 Oct 2020   Prob (F-statistic):               0.00\n",
       "Time:                        18:38:16   Log-Likelihood:                -608.88\n",
       "No. Observations:                 612   AIC:                             1230.\n",
       "Df Residuals:                     606   BIC:                             1256.\n",
       "Df Model:                           5                                         \n",
       "Covariance Type:            nonrobust                                         \n",
       "==============================================================================\n",
       "                 coef    std err          t      P>|t|      [0.025      0.975]\n",
       "------------------------------------------------------------------------------\n",
       "const          5.2715      0.027    198.304      0.000       5.219       5.324\n",
       "x1             4.4861      0.037    120.649      0.000       4.413       4.559\n",
       "x2            -2.6223      0.110    -23.919      0.000      -2.838      -2.407\n",
       "x3             4.2507      0.167     25.465      0.000       3.923       4.579\n",
       "x4            -0.6643      0.204     -3.260      0.001      -1.064      -0.264\n",
       "x5             3.3523      0.273     12.267      0.000       2.816       3.889\n",
       "==============================================================================\n",
       "Omnibus:                       95.331   Durbin-Watson:                   1.938\n",
       "Prob(Omnibus):                  0.000   Jarque-Bera (JB):              246.005\n",
       "Skew:                           0.796   Prob(JB):                     3.81e-54\n",
       "Kurtosis:                       5.667   Cond. No.                         10.3\n",
       "==============================================================================\n",
       "\n",
       "Notes:\n",
       "[1] Standard Errors assume that the covariance matrix of the errors is correctly specified.\n",
       "\"\"\""
      ]
     },
     "execution_count": 35,
     "metadata": {},
     "output_type": "execute_result"
    }
   ],
   "source": [
    "X_train_sm = sm.add_constant(X_train_pca)\n",
    "model = sm.OLS(y_train, X_train_sm).fit()\n",
    "model.summary()"
   ]
  },
  {
   "cell_type": "code",
   "execution_count": 36,
   "metadata": {},
   "outputs": [
    {
     "name": "stdout",
     "output_type": "stream",
     "text": [
      "Mean cross-validation score: 0.9608\n"
     ]
    }
   ],
   "source": [
    "cv = cross_val_score( LinearRegression(), X_train_pca, y_train, cv=10)\n",
    "print(f\"Mean cross-validation score: {cv.mean():.4f}\")"
   ]
  },
  {
   "cell_type": "code",
   "execution_count": 37,
   "metadata": {},
   "outputs": [
    {
     "data": {
      "image/png": "[encoded data removed]",
      "text/plain": [
       "<Figure size 864x432 with 1 Axes>"
      ]
     },
     "metadata": {},
     "output_type": "display_data"
    }
   ],
   "source": [
    "plt.rcParams[\"figure.figsize\"] = (12,6)\n",
    "\n",
    "fig, ax = plt.subplots()\n",
    "end_d = 6 if start_y != 2000 else 5\n",
    "xi = np.arange(1, end_d, step=1)\n",
    "y = np.cumsum(pca.explained_variance_ratio_)\n",
    "\n",
    "plt.ylim(0.0,1.1)\n",
    "plt.plot(xi, y, marker='o', linestyle='--', color='b')\n",
    "\n",
    "plt.xlabel('Number of Components')\n",
    "plt.xticks(np.arange(0, end_d, step=1))\n",
    "plt.ylabel('Cumulative variance (%)')\n",
    "plt.title('The number of components needed to explain variance')\n",
    "\n",
    "plt.axhline(y=0.95, color='r', linestyle='-')\n",
    "plt.text(0.5, 0.85, '95% cut-off threshold', color = 'red', fontsize=16)\n",
    "\n",
    "ax.grid(axis='x')\n",
    "plt.show()"
   ]
  },
  {
   "cell_type": "code",
   "execution_count": 38,
   "metadata": {},
   "outputs": [],
   "source": [
    "pca, X_train_pca, X_test_pca = transform_features(3) # try with 3 components"
   ]
  },
  {
   "cell_type": "code",
   "execution_count": 39,
   "metadata": {},
   "outputs": [
    {
     "data": {
      "text/html": [
       "<table class=\"simpletable\">\n",
       "<caption>OLS Regression Results</caption>\n",
       "<tr>\n",
       "  <th>Dep. Variable:</th>         <td>Return</td>      <th>  R-squared:         </th> <td>   0.954</td>\n",
       "</tr>\n",
       "<tr>\n",
       "  <th>Model:</th>                   <td>OLS</td>       <th>  Adj. R-squared:    </th> <td>   0.953</td>\n",
       "</tr>\n",
       "<tr>\n",
       "  <th>Method:</th>             <td>Least Squares</td>  <th>  F-statistic:       </th> <td>   4168.</td>\n",
       "</tr>\n",
       "<tr>\n",
       "  <th>Date:</th>             <td>Tue, 20 Oct 2020</td> <th>  Prob (F-statistic):</th>  <td>  0.00</td> \n",
       "</tr>\n",
       "<tr>\n",
       "  <th>Time:</th>                 <td>18:38:16</td>     <th>  Log-Likelihood:    </th> <td> -681.02</td>\n",
       "</tr>\n",
       "<tr>\n",
       "  <th>No. Observations:</th>      <td>   612</td>      <th>  AIC:               </th> <td>   1370.</td>\n",
       "</tr>\n",
       "<tr>\n",
       "  <th>Df Residuals:</th>          <td>   608</td>      <th>  BIC:               </th> <td>   1388.</td>\n",
       "</tr>\n",
       "<tr>\n",
       "  <th>Df Model:</th>              <td>     3</td>      <th>                     </th>     <td> </td>   \n",
       "</tr>\n",
       "<tr>\n",
       "  <th>Covariance Type:</th>      <td>nonrobust</td>    <th>                     </th>     <td> </td>   \n",
       "</tr>\n",
       "</table>\n",
       "<table class=\"simpletable\">\n",
       "<tr>\n",
       "    <td></td>       <th>coef</th>     <th>std err</th>      <th>t</th>      <th>P>|t|</th>  <th>[0.025</th>    <th>0.975]</th>  \n",
       "</tr>\n",
       "<tr>\n",
       "  <th>const</th> <td>    5.2715</td> <td>    0.030</td> <td>  176.544</td> <td> 0.000</td> <td>    5.213</td> <td>    5.330</td>\n",
       "</tr>\n",
       "<tr>\n",
       "  <th>x1</th>    <td>    4.4861</td> <td>    0.042</td> <td>  107.410</td> <td> 0.000</td> <td>    4.404</td> <td>    4.568</td>\n",
       "</tr>\n",
       "<tr>\n",
       "  <th>x2</th>    <td>   -2.6223</td> <td>    0.123</td> <td>  -21.295</td> <td> 0.000</td> <td>   -2.864</td> <td>   -2.380</td>\n",
       "</tr>\n",
       "<tr>\n",
       "  <th>x3</th>    <td>    4.2507</td> <td>    0.188</td> <td>   22.670</td> <td> 0.000</td> <td>    3.882</td> <td>    4.619</td>\n",
       "</tr>\n",
       "</table>\n",
       "<table class=\"simpletable\">\n",
       "<tr>\n",
       "  <th>Omnibus:</th>       <td>46.152</td> <th>  Durbin-Watson:     </th> <td>   1.973</td>\n",
       "</tr>\n",
       "<tr>\n",
       "  <th>Prob(Omnibus):</th> <td> 0.000</td> <th>  Jarque-Bera (JB):  </th> <td>  78.055</td>\n",
       "</tr>\n",
       "<tr>\n",
       "  <th>Skew:</th>          <td> 0.519</td> <th>  Prob(JB):          </th> <td>1.12e-17</td>\n",
       "</tr>\n",
       "<tr>\n",
       "  <th>Kurtosis:</th>      <td> 4.409</td> <th>  Cond. No.          </th> <td>    6.28</td>\n",
       "</tr>\n",
       "</table><br/><br/>Notes:<br/>[1] Standard Errors assume that the covariance matrix of the errors is correctly specified."
      ],
      "text/plain": [
       "<class 'statsmodels.iolib.summary.Summary'>\n",
       "\"\"\"\n",
       "                            OLS Regression Results                            \n",
       "==============================================================================\n",
       "Dep. Variable:                 Return   R-squared:                       0.954\n",
       "Model:                            OLS   Adj. R-squared:                  0.953\n",
       "Method:                 Least Squares   F-statistic:                     4168.\n",
       "Date:                Tue, 20 Oct 2020   Prob (F-statistic):               0.00\n",
       "Time:                        18:38:16   Log-Likelihood:                -681.02\n",
       "No. Observations:                 612   AIC:                             1370.\n",
       "Df Residuals:                     608   BIC:                             1388.\n",
       "Df Model:                           3                                         \n",
       "Covariance Type:            nonrobust                                         \n",
       "==============================================================================\n",
       "                 coef    std err          t      P>|t|      [0.025      0.975]\n",
       "------------------------------------------------------------------------------\n",
       "const          5.2715      0.030    176.544      0.000       5.213       5.330\n",
       "x1             4.4861      0.042    107.410      0.000       4.404       4.568\n",
       "x2            -2.6223      0.123    -21.295      0.000      -2.864      -2.380\n",
       "x3             4.2507      0.188     22.670      0.000       3.882       4.619\n",
       "==============================================================================\n",
       "Omnibus:                       46.152   Durbin-Watson:                   1.973\n",
       "Prob(Omnibus):                  0.000   Jarque-Bera (JB):               78.055\n",
       "Skew:                           0.519   Prob(JB):                     1.12e-17\n",
       "Kurtosis:                       4.409   Cond. No.                         6.28\n",
       "==============================================================================\n",
       "\n",
       "Notes:\n",
       "[1] Standard Errors assume that the covariance matrix of the errors is correctly specified.\n",
       "\"\"\""
      ]
     },
     "execution_count": 39,
     "metadata": {},
     "output_type": "execute_result"
    }
   ],
   "source": [
    "X_train_sm = sm.add_constant(X_train_pca)\n",
    "model = sm.OLS(y_train, X_train_sm).fit()\n",
    "model.summary()"
   ]
  },
  {
   "cell_type": "code",
   "execution_count": 40,
   "metadata": {},
   "outputs": [],
   "source": [
    "lr = LinearRegression().fit(X_train_pca, y_train)\n",
    "y_pred = lr.predict(X_test_pca)"
   ]
  },
  {
   "cell_type": "code",
   "execution_count": 41,
   "metadata": {},
   "outputs": [
    {
     "name": "stdout",
     "output_type": "stream",
     "text": [
      "Mean squared error: 0.52\n",
      "Coefficient of determination: 0.96\n",
      "Mean cross-validation score: 0.9514\n"
     ]
    }
   ],
   "source": [
    "# The mean squared error\n",
    "print('Mean squared error: %.2f' % mean_squared_error(y_test, y_pred))\n",
    "# The coefficient of determination: 1 is perfect prediction\n",
    "print('Coefficient of determination: %.2f' % r2_score(y_test, y_pred))\n",
    "\n",
    "cv = cross_val_score(LinearRegression(), X_train_pca, y_train, cv=10)\n",
    "print(f\"Mean cross-validation score: {cv.mean():.4f}\")"
   ]
  },
  {
   "cell_type": "code",
   "execution_count": 42,
   "metadata": {},
   "outputs": [],
   "source": [
    "y_pred.tolist()\n",
    "y_pred_list = [i[0] for i in y_pred.tolist()]"
   ]
  },
  {
   "cell_type": "code",
   "execution_count": 43,
   "metadata": {},
   "outputs": [
    {
     "data": {
      "text/plain": [
       "Text(0, 0.5, 'Return')"
      ]
     },
     "execution_count": 43,
     "metadata": {},
     "output_type": "execute_result"
    },
    {
     "data": {
      "image/png": "[encoded data removed]",
      "text/plain": [
       "<Figure size 864x432 with 1 Axes>"
      ]
     },
     "metadata": {},
     "output_type": "display_data"
    }
   ],
   "source": [
    "plt.scatter(list(X_train[\"InvestedYears\"]), list(y_train.Return))\n",
    "plt.title(\"Results on train set\")\n",
    "plt.xlabel(\"Invested Years\")\n",
    "plt.ylabel(\"Return\")"
   ]
  },
  {
   "cell_type": "code",
   "execution_count": 44,
   "metadata": {},
   "outputs": [
    {
     "data": {
      "text/plain": [
       "Text(0, 0.5, 'Return')"
      ]
     },
     "execution_count": 44,
     "metadata": {},
     "output_type": "execute_result"
    },
    {
     "data": {
      "image/png": "[encoded data removed]",
      "text/plain": [
       "<Figure size 864x432 with 1 Axes>"
      ]
     },
     "metadata": {},
     "output_type": "display_data"
    }
   ],
   "source": [
    "plt.scatter(list(X_test[\"InvestedYears\"]), y_pred_list)\n",
    "plt.title(\"Results on test set\")\n",
    "plt.xlabel(\"Invested Years\")\n",
    "plt.ylabel(\"Return\")"
   ]
  },
  {
   "cell_type": "code",
   "execution_count": 45,
   "metadata": {},
   "outputs": [],
   "source": [
    "updated_df = pd.read_csv(\"../data/U.S. Stock Markets 1871-Present.csv\")"
   ]
  },
  {
   "cell_type": "code",
   "execution_count": 46,
   "metadata": {},
   "outputs": [],
   "source": [
    "years = []\n",
    "for idx, row in updated_df.iterrows():\n",
    "    years.append(int(str(row[\"Date\"]).split('.')[0]))"
   ]
  },
  {
   "cell_type": "code",
   "execution_count": 47,
   "metadata": {},
   "outputs": [],
   "source": [
    "updated_df[\"Year\"] = years"
   ]
  },
  {
   "cell_type": "code",
   "execution_count": 48,
   "metadata": {},
   "outputs": [],
   "source": [
    "# we don't have whole year in 2020 so we exclude 2020\n",
    "start_y = 2018\n",
    "end_y = 2020\n",
    "updated_df = updated_df[(updated_df[\"Year\"] >= start_y) & (updated_df[\"Year\"] < end_y)].reset_index(drop=True)\n",
    "\n",
    "updated_df.drop(\"Date\", axis=1, inplace=True)\n",
    "updated_df = updated_df.drop([\"RealTRScaledEarnings\", \"Real Total Return Price\"], axis=1)"
   ]
  },
  {
   "cell_type": "code",
   "execution_count": 49,
   "metadata": {},
   "outputs": [
    {
     "data": {
      "text/html": [
       "<div>\n",
       "<style scoped>\n",
       "    .dataframe tbody tr th:only-of-type {\n",
       "        vertical-align: middle;\n",
       "    }\n",
       "\n",
       "    .dataframe tbody tr th {\n",
       "        vertical-align: top;\n",
       "    }\n",
       "\n",
       "    .dataframe thead th {\n",
       "        text-align: right;\n",
       "    }\n",
       "</style>\n",
       "<table border=\"1\" class=\"dataframe\">\n",
       "  <thead>\n",
       "    <tr style=\"text-align: right;\">\n",
       "      <th></th>\n",
       "      <th>S&amp;PComp</th>\n",
       "      <th>Dividend</th>\n",
       "      <th>Earnings</th>\n",
       "      <th>ConsumerPriceIndexCPI</th>\n",
       "      <th>Long Interest Rate GS10</th>\n",
       "      <th>Real Price</th>\n",
       "      <th>Real Dividend</th>\n",
       "      <th>Real Earnings</th>\n",
       "      <th>Year</th>\n",
       "    </tr>\n",
       "  </thead>\n",
       "  <tbody>\n",
       "    <tr>\n",
       "      <th>0</th>\n",
       "      <td>2789.80</td>\n",
       "      <td>49.29</td>\n",
       "      <td>111.73</td>\n",
       "      <td>247.87</td>\n",
       "      <td>2.58</td>\n",
       "      <td>2923.58</td>\n",
       "      <td>51.65</td>\n",
       "      <td>117.09</td>\n",
       "      <td>2018</td>\n",
       "    </tr>\n",
       "    <tr>\n",
       "      <th>1</th>\n",
       "      <td>2705.16</td>\n",
       "      <td>49.64</td>\n",
       "      <td>113.59</td>\n",
       "      <td>248.99</td>\n",
       "      <td>2.86</td>\n",
       "      <td>2822.08</td>\n",
       "      <td>51.79</td>\n",
       "      <td>118.50</td>\n",
       "      <td>2018</td>\n",
       "    </tr>\n",
       "    <tr>\n",
       "      <th>2</th>\n",
       "      <td>2702.77</td>\n",
       "      <td>50.00</td>\n",
       "      <td>115.44</td>\n",
       "      <td>249.55</td>\n",
       "      <td>2.84</td>\n",
       "      <td>2813.23</td>\n",
       "      <td>52.04</td>\n",
       "      <td>120.16</td>\n",
       "      <td>2018</td>\n",
       "    </tr>\n",
       "    <tr>\n",
       "      <th>3</th>\n",
       "      <td>2653.63</td>\n",
       "      <td>50.33</td>\n",
       "      <td>117.79</td>\n",
       "      <td>250.55</td>\n",
       "      <td>2.87</td>\n",
       "      <td>2751.14</td>\n",
       "      <td>52.18</td>\n",
       "      <td>122.12</td>\n",
       "      <td>2018</td>\n",
       "    </tr>\n",
       "    <tr>\n",
       "      <th>4</th>\n",
       "      <td>2701.49</td>\n",
       "      <td>50.66</td>\n",
       "      <td>120.13</td>\n",
       "      <td>251.59</td>\n",
       "      <td>2.98</td>\n",
       "      <td>2789.16</td>\n",
       "      <td>52.30</td>\n",
       "      <td>124.03</td>\n",
       "      <td>2018</td>\n",
       "    </tr>\n",
       "    <tr>\n",
       "      <th>5</th>\n",
       "      <td>2754.35</td>\n",
       "      <td>50.99</td>\n",
       "      <td>122.48</td>\n",
       "      <td>251.99</td>\n",
       "      <td>2.91</td>\n",
       "      <td>2839.21</td>\n",
       "      <td>52.56</td>\n",
       "      <td>126.25</td>\n",
       "      <td>2018</td>\n",
       "    </tr>\n",
       "    <tr>\n",
       "      <th>6</th>\n",
       "      <td>2793.64</td>\n",
       "      <td>51.44</td>\n",
       "      <td>125.12</td>\n",
       "      <td>252.01</td>\n",
       "      <td>2.89</td>\n",
       "      <td>2879.52</td>\n",
       "      <td>53.02</td>\n",
       "      <td>128.96</td>\n",
       "      <td>2018</td>\n",
       "    </tr>\n",
       "    <tr>\n",
       "      <th>7</th>\n",
       "      <td>2857.82</td>\n",
       "      <td>51.89</td>\n",
       "      <td>127.75</td>\n",
       "      <td>252.15</td>\n",
       "      <td>2.89</td>\n",
       "      <td>2944.04</td>\n",
       "      <td>53.46</td>\n",
       "      <td>131.61</td>\n",
       "      <td>2018</td>\n",
       "    </tr>\n",
       "    <tr>\n",
       "      <th>8</th>\n",
       "      <td>2901.50</td>\n",
       "      <td>52.34</td>\n",
       "      <td>130.39</td>\n",
       "      <td>252.44</td>\n",
       "      <td>3.00</td>\n",
       "      <td>2985.57</td>\n",
       "      <td>53.86</td>\n",
       "      <td>134.17</td>\n",
       "      <td>2018</td>\n",
       "    </tr>\n",
       "    <tr>\n",
       "      <th>9</th>\n",
       "      <td>2785.46</td>\n",
       "      <td>52.81</td>\n",
       "      <td>131.06</td>\n",
       "      <td>252.89</td>\n",
       "      <td>3.15</td>\n",
       "      <td>2861.11</td>\n",
       "      <td>54.24</td>\n",
       "      <td>134.62</td>\n",
       "      <td>2018</td>\n",
       "    </tr>\n",
       "    <tr>\n",
       "      <th>10</th>\n",
       "      <td>2723.23</td>\n",
       "      <td>53.28</td>\n",
       "      <td>131.72</td>\n",
       "      <td>252.04</td>\n",
       "      <td>3.12</td>\n",
       "      <td>2806.59</td>\n",
       "      <td>54.91</td>\n",
       "      <td>135.76</td>\n",
       "      <td>2018</td>\n",
       "    </tr>\n",
       "    <tr>\n",
       "      <th>11</th>\n",
       "      <td>2567.31</td>\n",
       "      <td>53.75</td>\n",
       "      <td>132.39</td>\n",
       "      <td>251.23</td>\n",
       "      <td>2.83</td>\n",
       "      <td>2654.37</td>\n",
       "      <td>55.57</td>\n",
       "      <td>136.88</td>\n",
       "      <td>2018</td>\n",
       "    </tr>\n",
       "    <tr>\n",
       "      <th>12</th>\n",
       "      <td>2607.39</td>\n",
       "      <td>54.15</td>\n",
       "      <td>133.06</td>\n",
       "      <td>251.71</td>\n",
       "      <td>2.71</td>\n",
       "      <td>2690.68</td>\n",
       "      <td>55.88</td>\n",
       "      <td>137.31</td>\n",
       "      <td>2019</td>\n",
       "    </tr>\n",
       "    <tr>\n",
       "      <th>13</th>\n",
       "      <td>2754.86</td>\n",
       "      <td>54.54</td>\n",
       "      <td>133.72</td>\n",
       "      <td>252.78</td>\n",
       "      <td>2.68</td>\n",
       "      <td>2830.90</td>\n",
       "      <td>56.05</td>\n",
       "      <td>137.41</td>\n",
       "      <td>2019</td>\n",
       "    </tr>\n",
       "    <tr>\n",
       "      <th>14</th>\n",
       "      <td>2803.98</td>\n",
       "      <td>54.94</td>\n",
       "      <td>134.39</td>\n",
       "      <td>254.20</td>\n",
       "      <td>2.57</td>\n",
       "      <td>2865.21</td>\n",
       "      <td>56.14</td>\n",
       "      <td>137.32</td>\n",
       "      <td>2019</td>\n",
       "    </tr>\n",
       "    <tr>\n",
       "      <th>15</th>\n",
       "      <td>2903.80</td>\n",
       "      <td>55.32</td>\n",
       "      <td>134.68</td>\n",
       "      <td>255.55</td>\n",
       "      <td>2.53</td>\n",
       "      <td>2951.58</td>\n",
       "      <td>56.23</td>\n",
       "      <td>136.90</td>\n",
       "      <td>2019</td>\n",
       "    </tr>\n",
       "    <tr>\n",
       "      <th>16</th>\n",
       "      <td>2854.71</td>\n",
       "      <td>55.70</td>\n",
       "      <td>134.98</td>\n",
       "      <td>256.09</td>\n",
       "      <td>2.40</td>\n",
       "      <td>2895.52</td>\n",
       "      <td>56.49</td>\n",
       "      <td>136.91</td>\n",
       "      <td>2019</td>\n",
       "    </tr>\n",
       "    <tr>\n",
       "      <th>17</th>\n",
       "      <td>2890.17</td>\n",
       "      <td>56.08</td>\n",
       "      <td>135.27</td>\n",
       "      <td>256.14</td>\n",
       "      <td>2.06</td>\n",
       "      <td>2930.90</td>\n",
       "      <td>56.87</td>\n",
       "      <td>137.18</td>\n",
       "      <td>2019</td>\n",
       "    </tr>\n",
       "    <tr>\n",
       "      <th>18</th>\n",
       "      <td>2996.11</td>\n",
       "      <td>56.46</td>\n",
       "      <td>134.48</td>\n",
       "      <td>256.57</td>\n",
       "      <td>1.63</td>\n",
       "      <td>3033.27</td>\n",
       "      <td>57.16</td>\n",
       "      <td>136.15</td>\n",
       "      <td>2019</td>\n",
       "    </tr>\n",
       "    <tr>\n",
       "      <th>19</th>\n",
       "      <td>2897.50</td>\n",
       "      <td>56.84</td>\n",
       "      <td>133.69</td>\n",
       "      <td>256.56</td>\n",
       "      <td>1.63</td>\n",
       "      <td>2933.58</td>\n",
       "      <td>57.55</td>\n",
       "      <td>135.35</td>\n",
       "      <td>2019</td>\n",
       "    </tr>\n",
       "    <tr>\n",
       "      <th>20</th>\n",
       "      <td>2982.16</td>\n",
       "      <td>57.22</td>\n",
       "      <td>132.90</td>\n",
       "      <td>256.76</td>\n",
       "      <td>1.70</td>\n",
       "      <td>3016.93</td>\n",
       "      <td>57.89</td>\n",
       "      <td>134.45</td>\n",
       "      <td>2019</td>\n",
       "    </tr>\n",
       "    <tr>\n",
       "      <th>21</th>\n",
       "      <td>2977.68</td>\n",
       "      <td>57.56</td>\n",
       "      <td>135.09</td>\n",
       "      <td>257.35</td>\n",
       "      <td>1.71</td>\n",
       "      <td>3005.53</td>\n",
       "      <td>58.10</td>\n",
       "      <td>136.35</td>\n",
       "      <td>2019</td>\n",
       "    </tr>\n",
       "    <tr>\n",
       "      <th>22</th>\n",
       "      <td>3104.90</td>\n",
       "      <td>57.90</td>\n",
       "      <td>137.28</td>\n",
       "      <td>257.21</td>\n",
       "      <td>1.81</td>\n",
       "      <td>3135.63</td>\n",
       "      <td>58.47</td>\n",
       "      <td>138.64</td>\n",
       "      <td>2019</td>\n",
       "    </tr>\n",
       "    <tr>\n",
       "      <th>23</th>\n",
       "      <td>3176.75</td>\n",
       "      <td>58.24</td>\n",
       "      <td>139.47</td>\n",
       "      <td>256.97</td>\n",
       "      <td>1.86</td>\n",
       "      <td>3211.10</td>\n",
       "      <td>58.87</td>\n",
       "      <td>140.98</td>\n",
       "      <td>2019</td>\n",
       "    </tr>\n",
       "  </tbody>\n",
       "</table>\n",
       "</div>"
      ],
      "text/plain": [
       "    S&PComp  Dividend  Earnings  ConsumerPriceIndexCPI  \\\n",
       "0   2789.80     49.29    111.73                 247.87   \n",
       "1   2705.16     49.64    113.59                 248.99   \n",
       "2   2702.77     50.00    115.44                 249.55   \n",
       "3   2653.63     50.33    117.79                 250.55   \n",
       "4   2701.49     50.66    120.13                 251.59   \n",
       "5   2754.35     50.99    122.48                 251.99   \n",
       "6   2793.64     51.44    125.12                 252.01   \n",
       "7   2857.82     51.89    127.75                 252.15   \n",
       "8   2901.50     52.34    130.39                 252.44   \n",
       "9   2785.46     52.81    131.06                 252.89   \n",
       "10  2723.23     53.28    131.72                 252.04   \n",
       "11  2567.31     53.75    132.39                 251.23   \n",
       "12  2607.39     54.15    133.06                 251.71   \n",
       "13  2754.86     54.54    133.72                 252.78   \n",
       "14  2803.98     54.94    134.39                 254.20   \n",
       "15  2903.80     55.32    134.68                 255.55   \n",
       "16  2854.71     55.70    134.98                 256.09   \n",
       "17  2890.17     56.08    135.27                 256.14   \n",
       "18  2996.11     56.46    134.48                 256.57   \n",
       "19  2897.50     56.84    133.69                 256.56   \n",
       "20  2982.16     57.22    132.90                 256.76   \n",
       "21  2977.68     57.56    135.09                 257.35   \n",
       "22  3104.90     57.90    137.28                 257.21   \n",
       "23  3176.75     58.24    139.47                 256.97   \n",
       "\n",
       "    Long Interest Rate GS10  Real Price  Real Dividend  Real Earnings  Year  \n",
       "0                      2.58     2923.58          51.65         117.09  2018  \n",
       "1                      2.86     2822.08          51.79         118.50  2018  \n",
       "2                      2.84     2813.23          52.04         120.16  2018  \n",
       "3                      2.87     2751.14          52.18         122.12  2018  \n",
       "4                      2.98     2789.16          52.30         124.03  2018  \n",
       "5                      2.91     2839.21          52.56         126.25  2018  \n",
       "6                      2.89     2879.52          53.02         128.96  2018  \n",
       "7                      2.89     2944.04          53.46         131.61  2018  \n",
       "8                      3.00     2985.57          53.86         134.17  2018  \n",
       "9                      3.15     2861.11          54.24         134.62  2018  \n",
       "10                     3.12     2806.59          54.91         135.76  2018  \n",
       "11                     2.83     2654.37          55.57         136.88  2018  \n",
       "12                     2.71     2690.68          55.88         137.31  2019  \n",
       "13                     2.68     2830.90          56.05         137.41  2019  \n",
       "14                     2.57     2865.21          56.14         137.32  2019  \n",
       "15                     2.53     2951.58          56.23         136.90  2019  \n",
       "16                     2.40     2895.52          56.49         136.91  2019  \n",
       "17                     2.06     2930.90          56.87         137.18  2019  \n",
       "18                     1.63     3033.27          57.16         136.15  2019  \n",
       "19                     1.63     2933.58          57.55         135.35  2019  \n",
       "20                     1.70     3016.93          57.89         134.45  2019  \n",
       "21                     1.71     3005.53          58.10         136.35  2019  \n",
       "22                     1.81     3135.63          58.47         138.64  2019  \n",
       "23                     1.86     3211.10          58.87         140.98  2019  "
      ]
     },
     "execution_count": 49,
     "metadata": {},
     "output_type": "execute_result"
    }
   ],
   "source": [
    "updated_df"
   ]
  },
  {
   "cell_type": "code",
   "execution_count": 50,
   "metadata": {},
   "outputs": [],
   "source": [
    "previous_real_returns = []\n",
    "previous_real_returns.append(1) # start with investing one dollar at the begining\n",
    "i = 0\n",
    "\n",
    "for y in range(start_y, end_y):\n",
    "    real_return = calculate_real_return(y, y+1, previous_real_returns[i], updated_df) \n",
    "    previous_real_returns.append(real_return)\n",
    "    i += 1"
   ]
  },
  {
   "cell_type": "code",
   "execution_count": 51,
   "metadata": {},
   "outputs": [],
   "source": [
    "return_val = []\n",
    "year = start_y\n",
    "i = 0\n",
    "year_count = []\n",
    "\n",
    "for idx, row in updated_df.iterrows():\n",
    "    if row.Year == year:\n",
    "        return_val.append(previous_real_returns[i])\n",
    "        year_count.append(i)\n",
    "    else:\n",
    "        year += 1\n",
    "        i += 1\n",
    "        return_val.append(previous_real_returns[i])\n",
    "        year_count.append(i)"
   ]
  },
  {
   "cell_type": "code",
   "execution_count": 52,
   "metadata": {},
   "outputs": [],
   "source": [
    "updated_df[\"Return\"] = return_val\n",
    "updated_df[\"InvestedYears\"] = year_count\n",
    "updated_df = updated_df.drop(\"Year\", axis=1)"
   ]
  },
  {
   "cell_type": "code",
   "execution_count": 53,
   "metadata": {},
   "outputs": [],
   "source": [
    "y = updated_df[[\"Return\"]]\n",
    "X = updated_df.drop(\"Return\", axis=1)\n",
    "\n",
    "X_train, X_test, y_train, y_test = train_test_split(X, y, test_size=0.25, random_state=1)"
   ]
  },
  {
   "cell_type": "code",
   "execution_count": 54,
   "metadata": {},
   "outputs": [],
   "source": [
    "pca, X_train_pca, X_test_pca = transform_features(3) # try with 3 components"
   ]
  },
  {
   "cell_type": "code",
   "execution_count": 55,
   "metadata": {},
   "outputs": [],
   "source": [
    "y_pred = lr.predict(X_test_pca)"
   ]
  },
  {
   "cell_type": "code",
   "execution_count": 56,
   "metadata": {},
   "outputs": [
    {
     "name": "stdout",
     "output_type": "stream",
     "text": [
      "Mean squared error: 71.57\n",
      "Coefficient of determination: -93049.91\n"
     ]
    }
   ],
   "source": [
    "# The mean squared error\n",
    "print('Mean squared error: %.2f' % mean_squared_error(y_test, y_pred))\n",
    "# The coefficient of determination: 1 is perfect prediction\n",
    "print('Coefficient of determination: %.2f' % r2_score(y_test, y_pred))"
   ]
  }
 ],
 "metadata": {
  "kernelspec": {
   "display_name": "Python 3",
   "language": "python",
   "name": "python3"
  },
  "language_info": {
   "codemirror_mode": {
    "name": "ipython",
    "version": 3
   },
   "file_extension": ".py",
   "mimetype": "text/x-python",
   "name": "python",
   "nbconvert_exporter": "python",
   "pygments_lexer": "ipython3",
   "version": "3.8.3"
  }
 },
 "nbformat": 4,
 "nbformat_minor": 4
}
